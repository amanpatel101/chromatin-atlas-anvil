{
 "cells": [
  {
   "cell_type": "code",
   "execution_count": 4,
   "id": "a1a44cfd-d64c-458e-a47a-f4dfc453c01d",
   "metadata": {},
   "outputs": [
    {
     "name": "stdout",
     "output_type": "stream",
     "text": [
      "0 sd\n",
      "1 sds\n"
     ]
    }
   ],
   "source": [
    "for index,i in enumerate(['sd','sds']):\n",
    "    print(inf,i)"
   ]
  },
  {
   "cell_type": "code",
   "execution_count": null,
   "id": "36958f21-cc51-4725-ae6c-7446afdede5d",
   "metadata": {},
   "outputs": [],
   "source": []
  }
 ],
 "metadata": {
  "kernelspec": {
   "display_name": "basepairmodels_latest",
   "language": "python",
   "name": "basepairmodels_latest"
  },
  "language_info": {
   "codemirror_mode": {
    "name": "ipython",
    "version": 3
   },
   "file_extension": ".py",
   "mimetype": "text/x-python",
   "name": "python",
   "nbconvert_exporter": "python",
   "pygments_lexer": "ipython3",
   "version": "3.7.0"
  }
 },
 "nbformat": 4,
 "nbformat_minor": 5
}
