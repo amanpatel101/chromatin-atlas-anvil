{
 "cells": [
  {
   "cell_type": "code",
   "execution_count": 4,
   "id": "a1a44cfd-d64c-458e-a47a-f4dfc453c01d",
   "metadata": {},
   "outputs": [
    {
     "name": "stdout",
     "output_type": "stream",
     "text": [
      "0 sd\n",
      "1 sds\n"
     ]
    }
   ],
   "source": [
    "for index,i in enumerate(['sd','sds']):\n",
    "    print(inf,i)"
   ]
  },
  {
   "cell_type": "code",
   "execution_count": 5,
   "id": "36958f21-cc51-4725-ae6c-7446afdede5d",
   "metadata": {},
   "outputs": [],
   "source": [
    "from scipy.spatial.distance import jensenshannon"
   ]
  },
  {
   "cell_type": "code",
   "execution_count": 7,
   "id": "332a9322-638b-411b-924c-d150ded42940",
   "metadata": {},
   "outputs": [],
   "source": [
    "import numpy as np"
   ]
  },
  {
   "cell_type": "code",
   "execution_count": 11,
   "id": "40955042-f906-4398-b661-b22e64882a03",
   "metadata": {},
   "outputs": [
    {
     "data": {
      "text/plain": [
       "array([[ 0.3884779 , -0.10282707, -0.28046676,  0.94322203],\n",
       "       [ 1.47525405, -0.15213832,  1.22995207, -0.27261961]])"
      ]
     },
     "execution_count": 11,
     "metadata": {},
     "output_type": "execute_result"
    }
   ],
   "source": [
    "np.random.randn(2, 4)"
   ]
  },
  {
   "cell_type": "code",
   "execution_count": 67,
   "id": "8280ae64-ca1f-456a-a242-5cb80b01de2f",
   "metadata": {},
   "outputs": [
    {
     "data": {
      "text/plain": [
       "array([[ 1.01386277,  0.83485232,  2.52871904,  1.31538215],\n",
       "       [-0.63015232,  0.70128957,  1.51651908,  1.40975201],\n",
       "       [ 0.        ,  0.        ,  0.        ,  0.        ]])"
      ]
     },
     "execution_count": 67,
     "metadata": {},
     "output_type": "execute_result"
    }
   ],
   "source": [
    "gaussian_filter1d(np.concatenate((np.random.randn(2, 4),np.array([0.0,0,0,0]).reshape(1,4))),sigma=0.5,axis=1)"
   ]
  },
  {
   "cell_type": "code",
   "execution_count": 68,
   "id": "ee38041f-dee0-47b7-82b1-cf77d41733a9",
   "metadata": {},
   "outputs": [],
   "source": [
    "pred_profile = gaussian_filter1d(np.concatenate((np.random.randn(2, 4),np.array([0.0,0,0,0]).reshape(1,4))),sigma=0.5,axis=1)"
   ]
  },
  {
   "cell_type": "code",
   "execution_count": 79,
   "id": "d5a3ab9c-13d9-4a97-899a-078ec5a833e0",
   "metadata": {},
   "outputs": [],
   "source": [
    "pred_profile= np.random.randn(6, 2000)"
   ]
  },
  {
   "cell_type": "code",
   "execution_count": 80,
   "id": "4d7d8176-2e16-4ace-acde-2b09d5ddb453",
   "metadata": {},
   "outputs": [],
   "source": [
    "pred_profile= np.random.randn(6, 2000)\n",
    "pred_profile_prob = pred_profile / np.sum(pred_profile,axis=1,keepdims=True)"
   ]
  },
  {
   "cell_type": "code",
   "execution_count": 81,
   "id": "1fdf4365-b5da-4386-93a8-f7ed341b8f54",
   "metadata": {},
   "outputs": [
    {
     "data": {
      "text/plain": [
       "array([[-0.00367819,  0.00975627, -0.00358254, ...,  0.00358291,\n",
       "         0.00929554,  0.01262069],\n",
       "       [-0.67033895,  0.60642256,  0.6090195 , ..., -0.27582325,\n",
       "        -0.28200049, -0.17854725],\n",
       "       [ 0.02716311, -0.02826606,  0.00809944, ...,  0.00829685,\n",
       "        -0.01058586, -0.00368275],\n",
       "       [ 0.00126475, -0.00673436, -0.02778177, ..., -0.02738813,\n",
       "        -0.00719074,  0.00796442],\n",
       "       [-0.05995182,  0.08234006, -0.10593009, ...,  0.02131799,\n",
       "         0.06332702, -0.17539556],\n",
       "       [ 0.00228547,  0.00497928,  0.06188577, ...,  0.06961553,\n",
       "        -0.01559476,  0.02992696]])"
      ]
     },
     "execution_count": 81,
     "metadata": {},
     "output_type": "execute_result"
    }
   ],
   "source": [
    "pred_profile_prob"
   ]
  },
  {
   "cell_type": "code",
   "execution_count": 66,
   "id": "fca9965e-b1b1-4c6d-b35d-af1d93bb9e26",
   "metadata": {},
   "outputs": [
    {
     "data": {
      "text/plain": [
       "array([[-0.1171097 , -0.05630112, -0.21224799, ..., -0.00612443,\n",
       "         0.02636863, -0.0390545 ],\n",
       "       [-0.07843144, -0.01195483,  0.00786744, ..., -0.01040716,\n",
       "         0.00333097,  0.05838523],\n",
       "       [ 0.01257375, -0.011515  , -0.0609394 , ..., -0.05579533,\n",
       "        -0.08907486,  0.01459756],\n",
       "       ...,\n",
       "       [ 0.09249657, -0.04259359,  0.0238692 , ...,  0.06946889,\n",
       "        -0.11803326,  0.00277448],\n",
       "       [-0.01022243,  0.00761536,  0.01068215, ...,  0.01532469,\n",
       "        -0.00048894,  0.00666527],\n",
       "       [-0.09880965, -0.02457329,  0.08846037, ...,  0.05089155,\n",
       "        -0.10591967,  0.00091952]])"
      ]
     },
     "execution_count": 66,
     "metadata": {},
     "output_type": "execute_result"
    }
   ],
   "source": [
    "pred_profile/(np.sum(pred_profile,axis=1).reshape(50,1))"
   ]
  },
  {
   "cell_type": "code",
   "execution_count": 50,
   "id": "6f94adaf-78a6-4650-acda-de854dbc5bdf",
   "metadata": {},
   "outputs": [
    {
     "data": {
      "text/plain": [
       "array([-0.11202276, -1.56859551,  0.        ])"
      ]
     },
     "execution_count": 50,
     "metadata": {},
     "output_type": "execute_result"
    }
   ],
   "source": [
    "np.sum(pred_profile,axis=1)"
   ]
  },
  {
   "cell_type": "code",
   "execution_count": 38,
   "id": "63dcfbe4-a2a4-4d9c-b0ba-587a67d629fa",
   "metadata": {
    "collapsed": true,
    "jupyter": {
     "outputs_hidden": true
    },
    "tags": []
   },
   "outputs": [
    {
     "data": {
      "text/plain": [
       "\u001b[0;31mSignature:\u001b[0m\n",
       "\u001b[0mgaussian_filter1d\u001b[0m\u001b[0;34m(\u001b[0m\u001b[0;34m\u001b[0m\n",
       "\u001b[0;34m\u001b[0m    \u001b[0minput\u001b[0m\u001b[0;34m,\u001b[0m\u001b[0;34m\u001b[0m\n",
       "\u001b[0;34m\u001b[0m    \u001b[0msigma\u001b[0m\u001b[0;34m,\u001b[0m\u001b[0;34m\u001b[0m\n",
       "\u001b[0;34m\u001b[0m    \u001b[0maxis\u001b[0m\u001b[0;34m=\u001b[0m\u001b[0;34m-\u001b[0m\u001b[0;36m1\u001b[0m\u001b[0;34m,\u001b[0m\u001b[0;34m\u001b[0m\n",
       "\u001b[0;34m\u001b[0m    \u001b[0morder\u001b[0m\u001b[0;34m=\u001b[0m\u001b[0;36m0\u001b[0m\u001b[0;34m,\u001b[0m\u001b[0;34m\u001b[0m\n",
       "\u001b[0;34m\u001b[0m    \u001b[0moutput\u001b[0m\u001b[0;34m=\u001b[0m\u001b[0;32mNone\u001b[0m\u001b[0;34m,\u001b[0m\u001b[0;34m\u001b[0m\n",
       "\u001b[0;34m\u001b[0m    \u001b[0mmode\u001b[0m\u001b[0;34m=\u001b[0m\u001b[0;34m'reflect'\u001b[0m\u001b[0;34m,\u001b[0m\u001b[0;34m\u001b[0m\n",
       "\u001b[0;34m\u001b[0m    \u001b[0mcval\u001b[0m\u001b[0;34m=\u001b[0m\u001b[0;36m0.0\u001b[0m\u001b[0;34m,\u001b[0m\u001b[0;34m\u001b[0m\n",
       "\u001b[0;34m\u001b[0m    \u001b[0mtruncate\u001b[0m\u001b[0;34m=\u001b[0m\u001b[0;36m4.0\u001b[0m\u001b[0;34m,\u001b[0m\u001b[0;34m\u001b[0m\n",
       "\u001b[0;34m\u001b[0m\u001b[0;34m)\u001b[0m\u001b[0;34m\u001b[0m\u001b[0m\n",
       "\u001b[0;31mDocstring:\u001b[0m\n",
       "1-D Gaussian filter.\n",
       "\n",
       "Parameters\n",
       "----------\n",
       "input : array_like\n",
       "    The input array.\n",
       "sigma : scalar\n",
       "    standard deviation for Gaussian kernel\n",
       "axis : int, optional\n",
       "    The axis of `input` along which to calculate. Default is -1.\n",
       "order : int, optional\n",
       "    An order of 0 corresponds to convolution with a Gaussian\n",
       "    kernel. A positive order corresponds to convolution with\n",
       "    that derivative of a Gaussian.\n",
       "output : array or dtype, optional\n",
       "    The array in which to place the output, or the dtype of the\n",
       "    returned array. By default an array of the same dtype as input\n",
       "    will be created.\n",
       "mode : {'reflect', 'constant', 'nearest', 'mirror', 'wrap'}, optional\n",
       "    The `mode` parameter determines how the input array is extended\n",
       "    beyond its boundaries. Default is 'reflect'. Behavior for each valid\n",
       "    value is as follows:\n",
       "\n",
       "    'reflect' (`d c b a | a b c d | d c b a`)\n",
       "        The input is extended by reflecting about the edge of the last\n",
       "        pixel. This mode is also sometimes referred to as half-sample\n",
       "        symmetric.\n",
       "\n",
       "    'constant' (`k k k k | a b c d | k k k k`)\n",
       "        The input is extended by filling all values beyond the edge with\n",
       "        the same constant value, defined by the `cval` parameter.\n",
       "\n",
       "    'nearest' (`a a a a | a b c d | d d d d`)\n",
       "        The input is extended by replicating the last pixel.\n",
       "\n",
       "    'mirror' (`d c b | a b c d | c b a`)\n",
       "        The input is extended by reflecting about the center of the last\n",
       "        pixel. This mode is also sometimes referred to as whole-sample\n",
       "        symmetric.\n",
       "\n",
       "    'wrap' (`a b c d | a b c d | a b c d`)\n",
       "        The input is extended by wrapping around to the opposite edge.\n",
       "\n",
       "    For consistency with the interpolation functions, the following mode\n",
       "    names can also be used:\n",
       "\n",
       "    'grid-mirror'\n",
       "        This is a synonym for 'reflect'.\n",
       "\n",
       "    'grid-constant'\n",
       "        This is a synonym for 'constant'.\n",
       "\n",
       "    'grid-wrap'\n",
       "        This is a synonym for 'wrap'.\n",
       "cval : scalar, optional\n",
       "    Value to fill past edges of input if `mode` is 'constant'. Default\n",
       "    is 0.0.\n",
       "truncate : float, optional\n",
       "    Truncate the filter at this many standard deviations.\n",
       "    Default is 4.0.\n",
       "\n",
       "Returns\n",
       "-------\n",
       "gaussian_filter1d : ndarray\n",
       "\n",
       "Examples\n",
       "--------\n",
       ">>> from scipy.ndimage import gaussian_filter1d\n",
       ">>> gaussian_filter1d([1.0, 2.0, 3.0, 4.0, 5.0], 1)\n",
       "array([ 1.42704095,  2.06782203,  3.        ,  3.93217797,  4.57295905])\n",
       ">>> gaussian_filter1d([1.0, 2.0, 3.0, 4.0, 5.0], 4)\n",
       "array([ 2.91948343,  2.95023502,  3.        ,  3.04976498,  3.08051657])\n",
       ">>> import matplotlib.pyplot as plt\n",
       ">>> rng = np.random.default_rng()\n",
       ">>> x = rng.standard_normal(101).cumsum()\n",
       ">>> y3 = gaussian_filter1d(x, 3)\n",
       ">>> y6 = gaussian_filter1d(x, 6)\n",
       ">>> plt.plot(x, 'k', label='original data')\n",
       ">>> plt.plot(y3, '--', label='filtered, sigma=3')\n",
       ">>> plt.plot(y6, ':', label='filtered, sigma=6')\n",
       ">>> plt.legend()\n",
       ">>> plt.grid()\n",
       ">>> plt.show()\n",
       "\u001b[0;31mSource:\u001b[0m   \n",
       "\u001b[0;34m@\u001b[0m\u001b[0m_ni_docstrings\u001b[0m\u001b[0;34m.\u001b[0m\u001b[0mdocfiller\u001b[0m\u001b[0;34m\u001b[0m\n",
       "\u001b[0;34m\u001b[0m\u001b[0;32mdef\u001b[0m \u001b[0mgaussian_filter1d\u001b[0m\u001b[0;34m(\u001b[0m\u001b[0minput\u001b[0m\u001b[0;34m,\u001b[0m \u001b[0msigma\u001b[0m\u001b[0;34m,\u001b[0m \u001b[0maxis\u001b[0m\u001b[0;34m=\u001b[0m\u001b[0;34m-\u001b[0m\u001b[0;36m1\u001b[0m\u001b[0;34m,\u001b[0m \u001b[0morder\u001b[0m\u001b[0;34m=\u001b[0m\u001b[0;36m0\u001b[0m\u001b[0;34m,\u001b[0m \u001b[0moutput\u001b[0m\u001b[0;34m=\u001b[0m\u001b[0;32mNone\u001b[0m\u001b[0;34m,\u001b[0m\u001b[0;34m\u001b[0m\n",
       "\u001b[0;34m\u001b[0m                      \u001b[0mmode\u001b[0m\u001b[0;34m=\u001b[0m\u001b[0;34m\"reflect\"\u001b[0m\u001b[0;34m,\u001b[0m \u001b[0mcval\u001b[0m\u001b[0;34m=\u001b[0m\u001b[0;36m0.0\u001b[0m\u001b[0;34m,\u001b[0m \u001b[0mtruncate\u001b[0m\u001b[0;34m=\u001b[0m\u001b[0;36m4.0\u001b[0m\u001b[0;34m)\u001b[0m\u001b[0;34m:\u001b[0m\u001b[0;34m\u001b[0m\n",
       "\u001b[0;34m\u001b[0m    \u001b[0;34m\"\"\"1-D Gaussian filter.\u001b[0m\n",
       "\u001b[0;34m\u001b[0m\n",
       "\u001b[0;34m    Parameters\u001b[0m\n",
       "\u001b[0;34m    ----------\u001b[0m\n",
       "\u001b[0;34m    %(input)s\u001b[0m\n",
       "\u001b[0;34m    sigma : scalar\u001b[0m\n",
       "\u001b[0;34m        standard deviation for Gaussian kernel\u001b[0m\n",
       "\u001b[0;34m    %(axis)s\u001b[0m\n",
       "\u001b[0;34m    order : int, optional\u001b[0m\n",
       "\u001b[0;34m        An order of 0 corresponds to convolution with a Gaussian\u001b[0m\n",
       "\u001b[0;34m        kernel. A positive order corresponds to convolution with\u001b[0m\n",
       "\u001b[0;34m        that derivative of a Gaussian.\u001b[0m\n",
       "\u001b[0;34m    %(output)s\u001b[0m\n",
       "\u001b[0;34m    %(mode_reflect)s\u001b[0m\n",
       "\u001b[0;34m    %(cval)s\u001b[0m\n",
       "\u001b[0;34m    truncate : float, optional\u001b[0m\n",
       "\u001b[0;34m        Truncate the filter at this many standard deviations.\u001b[0m\n",
       "\u001b[0;34m        Default is 4.0.\u001b[0m\n",
       "\u001b[0;34m\u001b[0m\n",
       "\u001b[0;34m    Returns\u001b[0m\n",
       "\u001b[0;34m    -------\u001b[0m\n",
       "\u001b[0;34m    gaussian_filter1d : ndarray\u001b[0m\n",
       "\u001b[0;34m\u001b[0m\n",
       "\u001b[0;34m    Examples\u001b[0m\n",
       "\u001b[0;34m    --------\u001b[0m\n",
       "\u001b[0;34m    >>> from scipy.ndimage import gaussian_filter1d\u001b[0m\n",
       "\u001b[0;34m    >>> gaussian_filter1d([1.0, 2.0, 3.0, 4.0, 5.0], 1)\u001b[0m\n",
       "\u001b[0;34m    array([ 1.42704095,  2.06782203,  3.        ,  3.93217797,  4.57295905])\u001b[0m\n",
       "\u001b[0;34m    >>> gaussian_filter1d([1.0, 2.0, 3.0, 4.0, 5.0], 4)\u001b[0m\n",
       "\u001b[0;34m    array([ 2.91948343,  2.95023502,  3.        ,  3.04976498,  3.08051657])\u001b[0m\n",
       "\u001b[0;34m    >>> import matplotlib.pyplot as plt\u001b[0m\n",
       "\u001b[0;34m    >>> rng = np.random.default_rng()\u001b[0m\n",
       "\u001b[0;34m    >>> x = rng.standard_normal(101).cumsum()\u001b[0m\n",
       "\u001b[0;34m    >>> y3 = gaussian_filter1d(x, 3)\u001b[0m\n",
       "\u001b[0;34m    >>> y6 = gaussian_filter1d(x, 6)\u001b[0m\n",
       "\u001b[0;34m    >>> plt.plot(x, 'k', label='original data')\u001b[0m\n",
       "\u001b[0;34m    >>> plt.plot(y3, '--', label='filtered, sigma=3')\u001b[0m\n",
       "\u001b[0;34m    >>> plt.plot(y6, ':', label='filtered, sigma=6')\u001b[0m\n",
       "\u001b[0;34m    >>> plt.legend()\u001b[0m\n",
       "\u001b[0;34m    >>> plt.grid()\u001b[0m\n",
       "\u001b[0;34m    >>> plt.show()\u001b[0m\n",
       "\u001b[0;34m\u001b[0m\n",
       "\u001b[0;34m    \"\"\"\u001b[0m\u001b[0;34m\u001b[0m\n",
       "\u001b[0;34m\u001b[0m    \u001b[0msd\u001b[0m \u001b[0;34m=\u001b[0m \u001b[0mfloat\u001b[0m\u001b[0;34m(\u001b[0m\u001b[0msigma\u001b[0m\u001b[0;34m)\u001b[0m\u001b[0;34m\u001b[0m\n",
       "\u001b[0;34m\u001b[0m    \u001b[0;31m# make the radius of the filter equal to truncate standard deviations\u001b[0m\u001b[0;34m\u001b[0m\n",
       "\u001b[0;34m\u001b[0m    \u001b[0mlw\u001b[0m \u001b[0;34m=\u001b[0m \u001b[0mint\u001b[0m\u001b[0;34m(\u001b[0m\u001b[0mtruncate\u001b[0m \u001b[0;34m*\u001b[0m \u001b[0msd\u001b[0m \u001b[0;34m+\u001b[0m \u001b[0;36m0.5\u001b[0m\u001b[0;34m)\u001b[0m\u001b[0;34m\u001b[0m\n",
       "\u001b[0;34m\u001b[0m    \u001b[0;31m# Since we are calling correlate, not convolve, revert the kernel\u001b[0m\u001b[0;34m\u001b[0m\n",
       "\u001b[0;34m\u001b[0m    \u001b[0mweights\u001b[0m \u001b[0;34m=\u001b[0m \u001b[0m_gaussian_kernel1d\u001b[0m\u001b[0;34m(\u001b[0m\u001b[0msigma\u001b[0m\u001b[0;34m,\u001b[0m \u001b[0morder\u001b[0m\u001b[0;34m,\u001b[0m \u001b[0mlw\u001b[0m\u001b[0;34m)\u001b[0m\u001b[0;34m[\u001b[0m\u001b[0;34m:\u001b[0m\u001b[0;34m:\u001b[0m\u001b[0;34m-\u001b[0m\u001b[0;36m1\u001b[0m\u001b[0;34m]\u001b[0m\u001b[0;34m\u001b[0m\n",
       "\u001b[0;34m\u001b[0m    \u001b[0;32mreturn\u001b[0m \u001b[0mcorrelate1d\u001b[0m\u001b[0;34m(\u001b[0m\u001b[0minput\u001b[0m\u001b[0;34m,\u001b[0m \u001b[0mweights\u001b[0m\u001b[0;34m,\u001b[0m \u001b[0maxis\u001b[0m\u001b[0;34m,\u001b[0m \u001b[0moutput\u001b[0m\u001b[0;34m,\u001b[0m \u001b[0mmode\u001b[0m\u001b[0;34m,\u001b[0m \u001b[0mcval\u001b[0m\u001b[0;34m,\u001b[0m \u001b[0;36m0\u001b[0m\u001b[0;34m)\u001b[0m\u001b[0;34m\u001b[0m\u001b[0m\n",
       "\u001b[0;31mFile:\u001b[0m      ~/anaconda3/envs/basepairmodels_latest/lib/python3.7/site-packages/scipy/ndimage/filters.py\n",
       "\u001b[0;31mType:\u001b[0m      function\n"
      ]
     },
     "metadata": {},
     "output_type": "display_data"
    }
   ],
   "source": [
    "from scipy.ndimage import gaussian_filter1d\n",
    "??gaussian_filter1d"
   ]
  },
  {
   "cell_type": "code",
   "execution_count": 75,
   "id": "c38e47ef-ad6a-433e-a638-3afb12589e7a",
   "metadata": {},
   "outputs": [
    {
     "data": {
      "text/plain": [
       "\u001b[0;31mSignature:\u001b[0m \u001b[0mjensenshannon\u001b[0m\u001b[0;34m(\u001b[0m\u001b[0mp\u001b[0m\u001b[0;34m,\u001b[0m \u001b[0mq\u001b[0m\u001b[0;34m,\u001b[0m \u001b[0mbase\u001b[0m\u001b[0;34m=\u001b[0m\u001b[0;32mNone\u001b[0m\u001b[0;34m,\u001b[0m \u001b[0;34m*\u001b[0m\u001b[0;34m,\u001b[0m \u001b[0maxis\u001b[0m\u001b[0;34m=\u001b[0m\u001b[0;36m0\u001b[0m\u001b[0;34m,\u001b[0m \u001b[0mkeepdims\u001b[0m\u001b[0;34m=\u001b[0m\u001b[0;32mFalse\u001b[0m\u001b[0;34m)\u001b[0m\u001b[0;34m\u001b[0m\u001b[0m\n",
       "\u001b[0;31mSource:\u001b[0m   \n",
       "\u001b[0;32mdef\u001b[0m \u001b[0mjensenshannon\u001b[0m\u001b[0;34m(\u001b[0m\u001b[0mp\u001b[0m\u001b[0;34m,\u001b[0m \u001b[0mq\u001b[0m\u001b[0;34m,\u001b[0m \u001b[0mbase\u001b[0m\u001b[0;34m=\u001b[0m\u001b[0;32mNone\u001b[0m\u001b[0;34m,\u001b[0m \u001b[0;34m*\u001b[0m\u001b[0;34m,\u001b[0m \u001b[0maxis\u001b[0m\u001b[0;34m=\u001b[0m\u001b[0;36m0\u001b[0m\u001b[0;34m,\u001b[0m \u001b[0mkeepdims\u001b[0m\u001b[0;34m=\u001b[0m\u001b[0;32mFalse\u001b[0m\u001b[0;34m)\u001b[0m\u001b[0;34m:\u001b[0m\u001b[0;34m\u001b[0m\n",
       "\u001b[0;34m\u001b[0m    \u001b[0;34m\"\"\"\u001b[0m\n",
       "\u001b[0;34m    Compute the Jensen-Shannon distance (metric) between\u001b[0m\n",
       "\u001b[0;34m    two probability arrays. This is the square root\u001b[0m\n",
       "\u001b[0;34m    of the Jensen-Shannon divergence.\u001b[0m\n",
       "\u001b[0;34m\u001b[0m\n",
       "\u001b[0;34m    The Jensen-Shannon distance between two probability\u001b[0m\n",
       "\u001b[0;34m    vectors `p` and `q` is defined as,\u001b[0m\n",
       "\u001b[0;34m\u001b[0m\n",
       "\u001b[0;34m    .. math::\u001b[0m\n",
       "\u001b[0;34m\u001b[0m\n",
       "\u001b[0;34m       \\\\sqrt{\\\\frac{D(p \\\\parallel m) + D(q \\\\parallel m)}{2}}\u001b[0m\n",
       "\u001b[0;34m\u001b[0m\n",
       "\u001b[0;34m    where :math:`m` is the pointwise mean of :math:`p` and :math:`q`\u001b[0m\n",
       "\u001b[0;34m    and :math:`D` is the Kullback-Leibler divergence.\u001b[0m\n",
       "\u001b[0;34m\u001b[0m\n",
       "\u001b[0;34m    This routine will normalize `p` and `q` if they don't sum to 1.0.\u001b[0m\n",
       "\u001b[0;34m\u001b[0m\n",
       "\u001b[0;34m    Parameters\u001b[0m\n",
       "\u001b[0;34m    ----------\u001b[0m\n",
       "\u001b[0;34m    p : (N,) array_like\u001b[0m\n",
       "\u001b[0;34m        left probability vector\u001b[0m\n",
       "\u001b[0;34m    q : (N,) array_like\u001b[0m\n",
       "\u001b[0;34m        right probability vector\u001b[0m\n",
       "\u001b[0;34m    base : double, optional\u001b[0m\n",
       "\u001b[0;34m        the base of the logarithm used to compute the output\u001b[0m\n",
       "\u001b[0;34m        if not given, then the routine uses the default base of\u001b[0m\n",
       "\u001b[0;34m        scipy.stats.entropy.\u001b[0m\n",
       "\u001b[0;34m    axis : int, optional\u001b[0m\n",
       "\u001b[0;34m        Axis along which the Jensen-Shannon distances are computed. The default\u001b[0m\n",
       "\u001b[0;34m        is 0.\u001b[0m\n",
       "\u001b[0;34m\u001b[0m\n",
       "\u001b[0;34m        .. versionadded:: 1.7.0\u001b[0m\n",
       "\u001b[0;34m    keepdims : bool, optional\u001b[0m\n",
       "\u001b[0;34m        If this is set to `True`, the reduced axes are left in the\u001b[0m\n",
       "\u001b[0;34m        result as dimensions with size one. With this option,\u001b[0m\n",
       "\u001b[0;34m        the result will broadcast correctly against the input array.\u001b[0m\n",
       "\u001b[0;34m        Default is False.\u001b[0m\n",
       "\u001b[0;34m\u001b[0m\n",
       "\u001b[0;34m        .. versionadded:: 1.7.0\u001b[0m\n",
       "\u001b[0;34m\u001b[0m\n",
       "\u001b[0;34m    Returns\u001b[0m\n",
       "\u001b[0;34m    -------\u001b[0m\n",
       "\u001b[0;34m    js : double or ndarray\u001b[0m\n",
       "\u001b[0;34m        The Jensen-Shannon distances between `p` and `q` along the `axis`.\u001b[0m\n",
       "\u001b[0;34m\u001b[0m\n",
       "\u001b[0;34m    Notes\u001b[0m\n",
       "\u001b[0;34m    -----\u001b[0m\n",
       "\u001b[0;34m\u001b[0m\n",
       "\u001b[0;34m    .. versionadded:: 1.2.0\u001b[0m\n",
       "\u001b[0;34m\u001b[0m\n",
       "\u001b[0;34m    Examples\u001b[0m\n",
       "\u001b[0;34m    --------\u001b[0m\n",
       "\u001b[0;34m    >>> from scipy.spatial import distance\u001b[0m\n",
       "\u001b[0;34m    >>> distance.jensenshannon([1.0, 0.0, 0.0], [0.0, 1.0, 0.0], 2.0)\u001b[0m\n",
       "\u001b[0;34m    1.0\u001b[0m\n",
       "\u001b[0;34m    >>> distance.jensenshannon([1.0, 0.0], [0.5, 0.5])\u001b[0m\n",
       "\u001b[0;34m    0.46450140402245893\u001b[0m\n",
       "\u001b[0;34m    >>> distance.jensenshannon([1.0, 0.0, 0.0], [1.0, 0.0, 0.0])\u001b[0m\n",
       "\u001b[0;34m    0.0\u001b[0m\n",
       "\u001b[0;34m    >>> a = np.array([[1, 2, 3, 4],\u001b[0m\n",
       "\u001b[0;34m    ...               [5, 6, 7, 8],\u001b[0m\n",
       "\u001b[0;34m    ...               [9, 10, 11, 12]])\u001b[0m\n",
       "\u001b[0;34m    >>> b = np.array([[13, 14, 15, 16],\u001b[0m\n",
       "\u001b[0;34m    ...               [17, 18, 19, 20],\u001b[0m\n",
       "\u001b[0;34m    ...               [21, 22, 23, 24]])\u001b[0m\n",
       "\u001b[0;34m    >>> distance.jensenshannon(a, b, axis=0)\u001b[0m\n",
       "\u001b[0;34m    array([0.1954288, 0.1447697, 0.1138377, 0.0927636])\u001b[0m\n",
       "\u001b[0;34m    >>> distance.jensenshannon(a, b, axis=1)\u001b[0m\n",
       "\u001b[0;34m    array([0.1402339, 0.0399106, 0.0201815])\u001b[0m\n",
       "\u001b[0;34m\u001b[0m\n",
       "\u001b[0;34m    \"\"\"\u001b[0m\u001b[0;34m\u001b[0m\n",
       "\u001b[0;34m\u001b[0m    \u001b[0mp\u001b[0m \u001b[0;34m=\u001b[0m \u001b[0mnp\u001b[0m\u001b[0;34m.\u001b[0m\u001b[0masarray\u001b[0m\u001b[0;34m(\u001b[0m\u001b[0mp\u001b[0m\u001b[0;34m)\u001b[0m\u001b[0;34m\u001b[0m\n",
       "\u001b[0;34m\u001b[0m    \u001b[0mq\u001b[0m \u001b[0;34m=\u001b[0m \u001b[0mnp\u001b[0m\u001b[0;34m.\u001b[0m\u001b[0masarray\u001b[0m\u001b[0;34m(\u001b[0m\u001b[0mq\u001b[0m\u001b[0;34m)\u001b[0m\u001b[0;34m\u001b[0m\n",
       "\u001b[0;34m\u001b[0m    \u001b[0mp\u001b[0m \u001b[0;34m=\u001b[0m \u001b[0mp\u001b[0m \u001b[0;34m/\u001b[0m \u001b[0mnp\u001b[0m\u001b[0;34m.\u001b[0m\u001b[0msum\u001b[0m\u001b[0;34m(\u001b[0m\u001b[0mp\u001b[0m\u001b[0;34m,\u001b[0m \u001b[0maxis\u001b[0m\u001b[0;34m=\u001b[0m\u001b[0maxis\u001b[0m\u001b[0;34m,\u001b[0m \u001b[0mkeepdims\u001b[0m\u001b[0;34m=\u001b[0m\u001b[0;32mTrue\u001b[0m\u001b[0;34m)\u001b[0m\u001b[0;34m\u001b[0m\n",
       "\u001b[0;34m\u001b[0m    \u001b[0mq\u001b[0m \u001b[0;34m=\u001b[0m \u001b[0mq\u001b[0m \u001b[0;34m/\u001b[0m \u001b[0mnp\u001b[0m\u001b[0;34m.\u001b[0m\u001b[0msum\u001b[0m\u001b[0;34m(\u001b[0m\u001b[0mq\u001b[0m\u001b[0;34m,\u001b[0m \u001b[0maxis\u001b[0m\u001b[0;34m=\u001b[0m\u001b[0maxis\u001b[0m\u001b[0;34m,\u001b[0m \u001b[0mkeepdims\u001b[0m\u001b[0;34m=\u001b[0m\u001b[0;32mTrue\u001b[0m\u001b[0;34m)\u001b[0m\u001b[0;34m\u001b[0m\n",
       "\u001b[0;34m\u001b[0m    \u001b[0mm\u001b[0m \u001b[0;34m=\u001b[0m \u001b[0;34m(\u001b[0m\u001b[0mp\u001b[0m \u001b[0;34m+\u001b[0m \u001b[0mq\u001b[0m\u001b[0;34m)\u001b[0m \u001b[0;34m/\u001b[0m \u001b[0;36m2.0\u001b[0m\u001b[0;34m\u001b[0m\n",
       "\u001b[0;34m\u001b[0m    \u001b[0mleft\u001b[0m \u001b[0;34m=\u001b[0m \u001b[0mrel_entr\u001b[0m\u001b[0;34m(\u001b[0m\u001b[0mp\u001b[0m\u001b[0;34m,\u001b[0m \u001b[0mm\u001b[0m\u001b[0;34m)\u001b[0m\u001b[0;34m\u001b[0m\n",
       "\u001b[0;34m\u001b[0m    \u001b[0mright\u001b[0m \u001b[0;34m=\u001b[0m \u001b[0mrel_entr\u001b[0m\u001b[0;34m(\u001b[0m\u001b[0mq\u001b[0m\u001b[0;34m,\u001b[0m \u001b[0mm\u001b[0m\u001b[0;34m)\u001b[0m\u001b[0;34m\u001b[0m\n",
       "\u001b[0;34m\u001b[0m    \u001b[0mleft_sum\u001b[0m \u001b[0;34m=\u001b[0m \u001b[0mnp\u001b[0m\u001b[0;34m.\u001b[0m\u001b[0msum\u001b[0m\u001b[0;34m(\u001b[0m\u001b[0mleft\u001b[0m\u001b[0;34m,\u001b[0m \u001b[0maxis\u001b[0m\u001b[0;34m=\u001b[0m\u001b[0maxis\u001b[0m\u001b[0;34m,\u001b[0m \u001b[0mkeepdims\u001b[0m\u001b[0;34m=\u001b[0m\u001b[0mkeepdims\u001b[0m\u001b[0;34m)\u001b[0m\u001b[0;34m\u001b[0m\n",
       "\u001b[0;34m\u001b[0m    \u001b[0mright_sum\u001b[0m \u001b[0;34m=\u001b[0m \u001b[0mnp\u001b[0m\u001b[0;34m.\u001b[0m\u001b[0msum\u001b[0m\u001b[0;34m(\u001b[0m\u001b[0mright\u001b[0m\u001b[0;34m,\u001b[0m \u001b[0maxis\u001b[0m\u001b[0;34m=\u001b[0m\u001b[0maxis\u001b[0m\u001b[0;34m,\u001b[0m \u001b[0mkeepdims\u001b[0m\u001b[0;34m=\u001b[0m\u001b[0mkeepdims\u001b[0m\u001b[0;34m)\u001b[0m\u001b[0;34m\u001b[0m\n",
       "\u001b[0;34m\u001b[0m    \u001b[0mjs\u001b[0m \u001b[0;34m=\u001b[0m \u001b[0mleft_sum\u001b[0m \u001b[0;34m+\u001b[0m \u001b[0mright_sum\u001b[0m\u001b[0;34m\u001b[0m\n",
       "\u001b[0;34m\u001b[0m    \u001b[0;32mif\u001b[0m \u001b[0mbase\u001b[0m \u001b[0;32mis\u001b[0m \u001b[0;32mnot\u001b[0m \u001b[0;32mNone\u001b[0m\u001b[0;34m:\u001b[0m\u001b[0;34m\u001b[0m\n",
       "\u001b[0;34m\u001b[0m        \u001b[0mjs\u001b[0m \u001b[0;34m/=\u001b[0m \u001b[0mnp\u001b[0m\u001b[0;34m.\u001b[0m\u001b[0mlog\u001b[0m\u001b[0;34m(\u001b[0m\u001b[0mbase\u001b[0m\u001b[0;34m)\u001b[0m\u001b[0;34m\u001b[0m\n",
       "\u001b[0;34m\u001b[0m    \u001b[0;32mreturn\u001b[0m \u001b[0mnp\u001b[0m\u001b[0;34m.\u001b[0m\u001b[0msqrt\u001b[0m\u001b[0;34m(\u001b[0m\u001b[0mjs\u001b[0m \u001b[0;34m/\u001b[0m \u001b[0;36m2.0\u001b[0m\u001b[0;34m)\u001b[0m\u001b[0;34m\u001b[0m\u001b[0m\n",
       "\u001b[0;31mFile:\u001b[0m      ~/anaconda3/envs/basepairmodels_latest/lib/python3.7/site-packages/scipy/spatial/distance.py\n",
       "\u001b[0;31mType:\u001b[0m      function\n"
      ]
     },
     "metadata": {},
     "output_type": "display_data"
    }
   ],
   "source": [
    "??jensenshannon"
   ]
  },
  {
   "cell_type": "code",
   "execution_count": 110,
   "id": "38b375f7-c1af-439e-ad5c-6676d98d3622",
   "metadata": {},
   "outputs": [
    {
     "data": {
      "text/plain": [
       "array([0.67373041, 0.48465543])"
      ]
     },
     "execution_count": 110,
     "metadata": {},
     "output_type": "execute_result"
    }
   ],
   "source": [
    "pred_profile1= np.array([[3,3,3,3,3,3],[2,3,4,5,5,5]])\n",
    "pred_profile_prob1 = pred_profile1 / np.sum(pred_profile1,axis=1,keepdims=True)\n",
    "pred_profile2= np.array([[0,22,0,0,0,0],[2,2,4,54,1,1]])\n",
    "pred_profile_prob2 = pred_profile2 / np.sum(pred_profile2,axis=1,keepdims=True)\n",
    "jensenshannon(pred_profile_prob1,pred_profile_prob2,axis=1)"
   ]
  },
  {
   "cell_type": "code",
   "execution_count": 105,
   "id": "59e049af-7b53-4141-ac26-8a65db16d01a",
   "metadata": {},
   "outputs": [
    {
     "data": {
      "text/plain": [
       "array([[0.16666667, 0.16666667, 0.16666667, 0.16666667, 0.16666667,\n",
       "        0.16666667],\n",
       "       [0.08333333, 0.125     , 0.16666667, 0.20833333, 0.20833333,\n",
       "        0.20833333]])"
      ]
     },
     "execution_count": 105,
     "metadata": {},
     "output_type": "execute_result"
    }
   ],
   "source": [
    "pred_profile_prob1"
   ]
  },
  {
   "cell_type": "code",
   "execution_count": 106,
   "id": "3d032d49-fd05-4bec-9054-3f92f924c7a0",
   "metadata": {},
   "outputs": [
    {
     "data": {
      "text/plain": [
       "array([[0.      , 1.      , 0.      , 0.      , 0.      , 0.      ],\n",
       "       [0.03125 , 0.03125 , 0.0625  , 0.84375 , 0.015625, 0.015625]])"
      ]
     },
     "execution_count": 106,
     "metadata": {},
     "output_type": "execute_result"
    }
   ],
   "source": [
    "pred_profile_prob2"
   ]
  },
  {
   "cell_type": "code",
   "execution_count": 111,
   "id": "88730a4a-7899-4674-b9cf-4a5ad9ecf90f",
   "metadata": {},
   "outputs": [],
   "source": [
    "import time\n",
    "import datetime\n",
    "import json\n",
    "import os\n",
    "import pandas as pd\n",
    "import sys\n",
    "import pysam\n",
    "from scipy.special import logsumexp\n",
    "\n",
    "stderr = sys.stderr\n",
    "sys.stderr = open('keras.stderr', 'w')\n",
    "\n",
    "from basepairmodels.cli import argparsers\n",
    "from basepairmodels.cli import bigwigutils\n",
    "from basepairmodels.cli import logger\n",
    "\n",
    "from basepairmodels.cli.bpnetutils import *\n",
    "from basepairmodels.cli.losses import MultichannelMultinomialNLL, multinomial_nll\n",
    "\n",
    "sys.stderr = stderr\n",
    "\n",
    "from tensorflow.keras.models import load_model\n",
    "from tensorflow.keras.utils import CustomObjectScope\n",
    "from tqdm import tqdm\n",
    "import pandas as pd\n",
    "import numpy as np\n",
    "\n",
    "import matplotlib.pyplot as plt\n",
    "\n",
    "import tensorflow.keras.backend as kb\n",
    "\n",
    "import imageio\n",
    "\n",
    "from plotnine import *\n",
    "\n",
    "import matplotlib as mpl\n",
    "mpl.rcParams['pdf.fonttype'] = 42\n",
    "mpl.rcParams['ps.fonttype'] = 42\n",
    "\n",
    "sys.path.append( '/mnt/lab_data2/vir/modisco_project/insilco_simulation/version2_2021_07_30/utils/' )\n",
    "from utils import *"
   ]
  },
  {
   "cell_type": "code",
   "execution_count": 163,
   "id": "f6d53e9f-f4e6-4b13-b02e-de62f4d2f450",
   "metadata": {},
   "outputs": [],
   "source": [
    "model_path = '/mnt/lab_data2/vir/tf_chr_atlas/temp/docker_modelling/ENCSR663NFC_nobias_split000.h5'\n",
    "reference_genome = '/users/zahoor/reference/hg38.genome.fa'\n",
    "peak_path  = '/oak/stanford/groups/akundaje/amtseng/tfmodisco/results/best_models_bigwigs/peaks/FOXA2_task0_peaks.bed.gz'\n",
    "\n",
    "\n"
   ]
  },
  {
   "cell_type": "code",
   "execution_count": 168,
   "id": "1647bb0d-acd6-4d06-a236-1d1af5c45d59",
   "metadata": {},
   "outputs": [],
   "source": [
    "import tensorflow as tf\n",
    "\n",
    "import tensorflow as tf\n",
    "import tensorflow.keras.backend as kb\n",
    "\n",
    "from tensorflow import keras\n",
    "from tensorflow.keras import Model\n",
    "import tensorflow_probability as tfp\n",
    "\n",
    "class CustomModel(Model):\n",
    "\n",
    "    def __init__(self, num_tasks, tracks_for_each_task, output_profile_len, loss_weights,counts_loss, **kwargs):\n",
    "\n",
    "        # call the base class with inputs and outputs\n",
    "        super(CustomModel, self).__init__(**kwargs)\n",
    "        \n",
    "        # number of tasks\n",
    "        self.num_tasks = num_tasks\n",
    "        \n",
    "        # number of tracks for each task\n",
    "        self.tracks_for_each_task = tracks_for_each_task\n",
    "        \n",
    "        # output profile length\n",
    "        self.output_profile_len = output_profile_len\n",
    "        \n",
    "        # weights for the profile mnll and logcounts losses\n",
    "        self.loss_weights = loss_weights\n",
    "        \n",
    "        # logcounts loss funtion\n",
    "        self.counts_loss = counts_loss\n",
    "        \n",
    "        # object to track overall mean loss per epoch\n",
    "        self.loss_tracker = keras.metrics.Mean(name=\"loss\")\n",
    "\n",
    "\n",
    "    def _get_loss(self, x, y, sample_weights, training=True):\n",
    "        # boolean mask for sample weights != 0\n",
    "        \n",
    "                \n",
    "        y_pred = self(x, training=training)  # Forward pass\n",
    "        \n",
    "        \n",
    "        def poisson_loss_function(y_log_true, y_log_pred):\n",
    "            # we can use the Possion PMF from TensorFlow as well\n",
    "            # dist = tf.contrib.distributions\n",
    "            # return -tf.reduce_mean(dist.Poisson(y_pred).log_pmf(y_true))\n",
    "\n",
    "            # last term can be avoided since it doesn't depend on y_pred\n",
    "            # however keeping it gives a nice lower bound to zero\n",
    "            \n",
    "            y_true = tf.math.exp(y_log_true) # -1? \n",
    "            y_pred = tf.math.exp(y_log_pred)\n",
    "            y_true = tf.cast(y_true,tf.float32)\n",
    "            y_pred = tf.cast(y_pred,tf.float32)\n",
    "            loss = y_pred - y_true*tf.math.log(y_pred+1e-8) + tf.math.lgamma(y_true+1.0)\n",
    "\n",
    "            return loss\n",
    "        \n",
    "        def _poisson_loss_function(_y_log_true,_y_log_pred):\n",
    "            total_poisson_loss = 0\n",
    "            track_count_cuml = 0\n",
    "            for i in range(self.num_tasks):\n",
    "                num_of_tracks = self.tracks_for_each_task[i]\n",
    "                y_log_true = tf.reduce_logsumexp(_y_log_true[:,track_count_cuml:(track_count_cuml+num_of_tracks)],axis=1)\n",
    "                y_log_pred = _y_log_pred[:,i:(i+1)][:,-1]\n",
    "                loss = poisson_loss_function(y_log_true, y_log_pred)\n",
    "                track_count_cuml += num_of_tracks\n",
    "                total_poisson_loss += loss\n",
    "            return total_poisson_loss\n",
    "    \n",
    "        def mse_loss_function(y_log_true, y_log_pred):\n",
    "            # logcounts mse loss without sample weights\n",
    "            mse_loss = keras.losses.mean_squared_error(\n",
    "                y_log_true, y_log_pred)\n",
    "            return mse_loss\n",
    "        \n",
    "        def _mse_loss_function(_y_log_true,_y_log_pred):\n",
    "            total_mse_loss = 0\n",
    "            track_count_cuml = 0\n",
    "            num_tasks_count_cuml = 0\n",
    "\n",
    "            for i in range(self.num_tasks):\n",
    "                num_of_tracks = self.tracks_for_each_task[i]\n",
    "                y_log_true = tf.reduce_logsumexp(_y_log_true[:,track_count_cuml:(track_count_cuml+num_of_tracks)],axis=1)\n",
    "                y_log_pred = _y_log_pred[:,i:(i+1)][:,-1]\n",
    "                \n",
    "                loss = mse_loss_function(y_log_true, y_log_pred)\n",
    "                track_count_cuml += num_of_tracks\n",
    "                num_tasks_count_cuml += 1\n",
    "                total_mse_loss += loss\n",
    "            return total_mse_loss\n",
    "        \n",
    "        if self.counts_loss == \"MSE\":\n",
    "            total_counts_loss = _mse_loss_function(y['logcounts_predictions'],y_pred[1])\n",
    "        \n",
    "        elif self.counts_loss == \"POISSON\":\n",
    "        \n",
    "            total_counts_loss = _poisson_loss_function(y['logcounts_predictions'],y_pred[1])\n",
    "            \n",
    "        else:\n",
    "            raise Exception(\"Sorry, unknown loss funtion\")\n",
    "        \n",
    "\n",
    "        # for mnll loss we mask out samples with weight == 0.0\n",
    "        \n",
    "        boolean_mask = tf.math.greater_equal(sample_weights, 1.0)\n",
    "        \n",
    "        _y = tf.boolean_mask(y['profile_predictions'], boolean_mask)\n",
    "        _y_pred = tf.boolean_mask(y_pred[0], boolean_mask)\n",
    "\n",
    "        def _zero_constant():\n",
    "            return kb.constant(0)\n",
    "        def multinomial_nll(true_counts, logits):\n",
    "            \"\"\"Compute the multinomial negative log-likelihood\n",
    "            Args:\n",
    "              true_counts: observed count values\n",
    "              logits: predicted logits values\n",
    "            \"\"\"\n",
    "            counts_per_example = tf.reduce_sum(true_counts, axis=-1)\n",
    "            dist = tfp.distributions.Multinomial(total_count=counts_per_example,\n",
    "                                                 logits=logits)\n",
    "            return (-tf.reduce_sum(dist.log_prob(true_counts)) / \n",
    "                    tf.cast(tf.shape(true_counts)[0], dtype=tf.float32))\n",
    "    \n",
    "        def _multinomial_nll(_y,_y_pred):\n",
    "            total_mnll_loss = 0\n",
    "            track_count_cuml = 0\n",
    "            for i in range(self.num_tasks):\n",
    "                num_of_tracks = self.tracks_for_each_task[i]\n",
    "                _y_reshape = tf.reshape(\\\n",
    "                                        _y[:,:,track_count_cuml:(track_count_cuml+num_of_tracks)],\\\n",
    "                                        [-1,(num_of_tracks)*(self.output_profile_len)]\\\n",
    "                                       )\n",
    "                _y_pred_reshape = tf.reshape(\\\n",
    "                                             _y_pred[:,:,track_count_cuml:(track_count_cuml+num_of_tracks)],\\\n",
    "                                             [-1,(num_of_tracks)*(self.output_profile_len)]\\\n",
    "                                            )\n",
    "                \n",
    "                loss = multinomial_nll(_y_reshape, _y_pred_reshape)\n",
    "                track_count_cuml = track_count_cuml+num_of_tracks\n",
    "                total_mnll_loss += loss\n",
    "            return total_mnll_loss\n",
    "                    \n",
    "        total_mnll_loss = tf.cond(tf.equal(tf.size(_y), 0), \n",
    "                  _zero_constant,\n",
    "                  lambda:  _multinomial_nll(_y,_y_pred))\n",
    "        \n",
    "        if self.counts_loss == \"MSE\":\n",
    "            loss =  (self.loss_weights[0] * total_mnll_loss) + \\\n",
    "                (self.loss_weights[1] * total_counts_loss)   \n",
    "        elif self.counts_loss == \"POISSON\":\n",
    "        \n",
    "            loss =  total_mnll_loss + total_counts_loss            \n",
    "        else:\n",
    "            raise Exception(\"Sorry, unknown loss funtion\")\n",
    "\n",
    "        return loss, total_mnll_loss, total_counts_loss\n",
    "            \n",
    "    def train_step(self, data):\n",
    "        x, y, sample_weights = data       \n",
    "    \n",
    "        with tf.GradientTape() as tape:\n",
    "            loss, total_mnll_loss, total_counts_loss = \\\n",
    "                self._get_loss(x, y, sample_weights)\n",
    "        # Compute gradients\n",
    "        trainable_vars = self.trainable_variables\n",
    "        gradients = tape.gradient(loss, trainable_vars)\n",
    "\n",
    "        # Update weights\n",
    "        self.optimizer.apply_gradients(zip(gradients, trainable_vars))\n",
    "\n",
    "        # Compute our own metrics\n",
    "        self.loss_tracker.update_state(loss)\n",
    "        return {\"loss\": self.loss_tracker.result(),\n",
    "                \"batch_loss\": loss,\n",
    "                \"profile_predictions_loss\": total_mnll_loss, \n",
    "                \"logcounts_predictions_loss\": total_counts_loss}\n",
    "\n",
    "    @property\n",
    "    def metrics(self):\n",
    "        # We list our `Metric` objects here so that `reset_states()` can be\n",
    "        # called automatically at the start of each epoch\n",
    "        # or at the start of `evaluate()`.\n",
    "        # If you don't implement this property, you have to call\n",
    "        # `reset_states()` yourself at the time of your choosing.\n",
    "        return [self.loss_tracker]\n",
    "    \n",
    "    \n",
    "    def test_step(self, data):\n",
    "        # Unpack the data\n",
    "        x, y, sample_weights = data\n",
    "        \n",
    "        loss, total_mnll_loss, total_counts_loss = \\\n",
    "            self._get_loss(x, y, sample_weights, training=False)\n",
    "            \n",
    "        # Compute our own metrics\n",
    "        self.loss_tracker.update_state(loss)\n",
    "        return {\"loss\": self.loss_tracker.result(),\n",
    "                \"batch_loss\": loss,\n",
    "                \"profile_predictions_loss\": total_mnll_loss, \n",
    "                \"logcounts_predictions_loss\": total_counts_loss}\n",
    "\n",
    "with CustomObjectScope({'MultichannelMultinomialNLL': lambda n='0':n,\n",
    "                        \"kb\": kb,\n",
    "                        \"CustomMeanSquaredError\":lambda n='0':n,\n",
    "                        \"tf\":tf,\n",
    "                       \"CustomModel\":CustomModel}):\n",
    "    model = load_model(model_path,compile=False)"
   ]
  },
  {
   "cell_type": "code",
   "execution_count": 169,
   "id": "d69384d1-800d-4cf5-a019-210266a9a081",
   "metadata": {},
   "outputs": [],
   "source": [
    "sequences = get_suffled_peak_sequences(peak_path, reference_genome, 2114, 200)"
   ]
  },
  {
   "cell_type": "code",
   "execution_count": 170,
   "id": "5ea00ff0-cf00-4b7f-b545-84fe6b293f2f",
   "metadata": {},
   "outputs": [],
   "source": [
    "output_seq_len = 1000\n",
    "number_of_strands = 2\n",
    "input_seq_len = 2114\n",
    "task = 0\n",
    "num_of_tasks = 1\n",
    "\n",
    "motif = 'TGTTTACTTA'\n",
    "input_seq_len = 2114\n",
    "motif_inserted_sequences = []\n",
    "for sequence in sequences:\n",
    "    inserted_sequence = (sequence[:(input_seq_len//2)] \n",
    "                        + motif \n",
    "                        + sequence[(input_seq_len//2)+len(motif):])\n",
    "    motif_inserted_sequences.append(inserted_sequence+random_seq(input_seq_len-len(inserted_sequence)))\n",
    "    \n",
    "encoded_inserted_sequences = one_hot_encode(motif_inserted_sequences,input_seq_len)\n",
    "\n",
    "prediction = model.predict([encoded_inserted_sequences])\n"
   ]
  },
  {
   "cell_type": "code",
   "execution_count": 172,
   "id": "7bb76c48-e423-4d07-ad4b-6154fdea9cb7",
   "metadata": {},
   "outputs": [],
   "source": [
    "motif = ''\n",
    "input_seq_len = 2114\n",
    "motif_inserted_sequences = []\n",
    "for sequence in sequences:\n",
    "    inserted_sequence = (sequence[:(input_seq_len//2)] \n",
    "                        + motif \n",
    "                        + sequence[(input_seq_len//2)+len(motif):])\n",
    "    motif_inserted_sequences.append(inserted_sequence+random_seq(input_seq_len-len(inserted_sequence)))\n",
    "    \n",
    "encoded_inserted_sequences = one_hot_encode(motif_inserted_sequences,input_seq_len)\n",
    "\n",
    "prediction2 = model.predict([encoded_inserted_sequences])\n"
   ]
  },
  {
   "cell_type": "code",
   "execution_count": 173,
   "id": "a9c709f8-0044-4564-bae2-baf532b6d8e3",
   "metadata": {},
   "outputs": [
    {
     "data": {
      "text/plain": [
       "(200, 1000, 2)"
      ]
     },
     "execution_count": 174,
     "metadata": {},
     "output_type": "execute_result"
    }
   ],
   "source": [
    "prediction[0].reshape(200,1000,2)[:,:,0]"
   ]
  },
  {
   "cell_type": "code",
   "execution_count": 130,
   "id": "f70d148b-b5dc-4362-ac42-13b4e9d2f7a6",
   "metadata": {},
   "outputs": [
    {
     "data": {
      "text/plain": [
       "array([inf, inf, inf, inf, inf, inf, inf, inf, inf, inf, inf, inf, inf,\n",
       "       inf, inf, inf, inf, inf, inf, inf, inf, inf, inf, inf, inf, inf,\n",
       "       inf, inf, inf, inf, inf, inf, inf, inf, inf, inf, inf, inf, inf,\n",
       "       inf, inf, inf, inf, inf, inf, inf, inf, inf, inf, inf, inf, inf,\n",
       "       inf, inf, inf, inf, inf, inf, inf, inf, inf, inf, inf, inf, inf,\n",
       "       inf, inf, inf, inf, inf, inf, inf, inf, inf, inf, inf, inf, inf,\n",
       "       inf, inf, inf, inf, inf, inf, inf, inf, inf, inf, inf, inf, inf,\n",
       "       inf, inf, inf, inf, inf, inf, inf, inf, inf, inf, inf, inf, inf,\n",
       "       inf, inf, inf, inf, inf, inf, inf, inf, inf, inf, inf, inf, inf,\n",
       "       inf, inf, inf, inf, inf, inf, inf, inf, inf, inf, inf, inf, inf,\n",
       "       inf, inf, inf, inf, inf, inf, inf, inf, inf, inf, inf, inf, inf,\n",
       "       inf, inf, inf, inf, inf, inf, inf, inf, inf, inf, inf, inf, inf,\n",
       "       inf, inf, inf, inf, inf, inf, inf, inf, inf, inf, inf, inf, inf,\n",
       "       inf, inf, inf, inf, inf, inf, inf, inf, inf, inf, inf, inf, inf,\n",
       "       inf, inf, inf, inf, inf, inf, inf, inf, inf, inf, inf, inf, inf,\n",
       "       inf, inf, inf, inf, inf], dtype=float32)"
      ]
     },
     "execution_count": 130,
     "metadata": {},
     "output_type": "execute_result"
    }
   ],
   "source": [
    "pred_profile1= prediction[0].reshape(200,1000,2)[:,:,1]\n",
    "pred_profile_prob1 = pred_profile1 / np.sum(pred_profile1,axis=1,keepdims=True)\n",
    "pred_profile2= prediction2[0].reshape(200,1000,2)[:,:,1]\n",
    "pred_profile_prob2 = pred_profile2 / np.sum(pred_profile2,axis=1,keepdims=True)\n",
    "jensenshannon(pred_profile_prob1,pred_profile_prob2,axis=1)"
   ]
  },
  {
   "cell_type": "code",
   "execution_count": 135,
   "id": "c64a0ca4-420e-4ffc-8873-64c2ee72cc58",
   "metadata": {},
   "outputs": [
    {
     "data": {
      "text/plain": [
       "(200, 1000)"
      ]
     },
     "execution_count": 135,
     "metadata": {},
     "output_type": "execute_result"
    }
   ],
   "source": [
    "pred_profile_prob1.shape"
   ]
  },
  {
   "cell_type": "code",
   "execution_count": 137,
   "id": "2e21a8d9-ca42-4dc5-951d-a8ab7e86ef1f",
   "metadata": {},
   "outputs": [
    {
     "data": {
      "text/plain": [
       "(200,)"
      ]
     },
     "execution_count": 137,
     "metadata": {},
     "output_type": "execute_result"
    }
   ],
   "source": [
    "np.mean(pred_profile_prob1,axis=1).shape"
   ]
  },
  {
   "cell_type": "code",
   "execution_count": 159,
   "id": "cac85e1a-10a3-44b1-94e3-5145ef9ded4b",
   "metadata": {},
   "outputs": [
    {
     "data": {
      "text/plain": [
       "[<matplotlib.lines.Line2D at 0x7f8a6842b160>]"
      ]
     },
     "execution_count": 159,
     "metadata": {},
     "output_type": "execute_result"
    },
    {
     "data": {
      "image/png": "[encoded data removed]",
      "text/plain": [
       "<Figure size 432x288 with 1 Axes>"
      ]
     },
     "metadata": {
      "needs_background": "light"
     },
     "output_type": "display_data"
    }
   ],
   "source": [
    "import matplotlib.pyplot as plt\n",
    "pred_profile1= (prediction[0].reshape(200,1000,2)[:,:,1])*(prediction[1].reshape(200,2,1)[:,1,:])\n",
    "pred_profile_prob1 = pred_profile1 / np.sum(pred_profile1,axis=1,keepdims=True)\n",
    "plt.plot(range(1000),np.mean(pred_profile_prob1,axis=0))"
   ]
  },
  {
   "cell_type": "code",
   "execution_count": 160,
   "id": "1f7275bc-8ee9-4be4-9815-058012af7ea5",
   "metadata": {},
   "outputs": [
    {
     "data": {
      "text/plain": [
       "array([[-1.8197482 , -1.7541932 , -1.9354827 , ..., -3.1747506 ,\n",
       "        -2.4487035 , -3.13267   ],\n",
       "       [-0.80683476, -0.33515564, -1.1275381 , ..., -2.5719945 ,\n",
       "        -2.6314075 , -2.2321153 ],\n",
       "       [-2.1176674 , -2.6354156 , -2.9009497 , ..., -2.3969898 ,\n",
       "        -1.9225506 , -2.2702878 ],\n",
       "       ...,\n",
       "       [-4.5793242 , -5.1969953 , -5.8953576 , ..., -3.9812515 ,\n",
       "        -3.6338136 , -4.3862076 ],\n",
       "       [-2.4989758 , -3.6829102 , -3.4033327 , ..., -2.3293216 ,\n",
       "        -2.500084  , -1.9680777 ],\n",
       "       [-3.717274  , -3.0079548 , -3.1571093 , ..., -3.0449967 ,\n",
       "        -3.7797635 , -2.5871449 ]], dtype=float32)"
      ]
     },
     "execution_count": 160,
     "metadata": {},
     "output_type": "execute_result"
    }
   ],
   "source": [
    "(prediction[0].reshape(200,1000,2)[:,:,1])*(prediction[1].reshape(200,2,1)[:,1,:])"
   ]
  },
  {
   "cell_type": "code",
   "execution_count": 162,
   "id": "c7a5251a-d099-40ab-bebd-a30d87b80e43",
   "metadata": {},
   "outputs": [
    {
     "ename": "AttributeError",
     "evalue": "'list' object has no attribute 'shape'",
     "output_type": "error",
     "traceback": [
      "\u001b[0;31m---------------------------------------------------------------------------\u001b[0m",
      "\u001b[0;31mAttributeError\u001b[0m                            Traceback (most recent call last)",
      "\u001b[0;32m<ipython-input-162-c0bcebfb69c1>\u001b[0m in \u001b[0;36m<module>\u001b[0;34m\u001b[0m\n\u001b[0;32m----> 1\u001b[0;31m \u001b[0mprediction\u001b[0m\u001b[0;34m.\u001b[0m\u001b[0mshape\u001b[0m\u001b[0;34m\u001b[0m\u001b[0m\n\u001b[0m",
      "\u001b[0;31mAttributeError\u001b[0m: 'list' object has no attribute 'shape'"
     ]
    }
   ],
   "source": [
    "prediction"
   ]
  },
  {
   "cell_type": "code",
   "execution_count": null,
   "id": "9a4af645-c692-4122-8fdf-62802df679d5",
   "metadata": {},
   "outputs": [],
   "source": [
    "logcounts_prediction = predictions[1][idx] # this is the logsum of both the strands that is \n",
    "                                                           # predicted                \n",
    "\n",
    "# predicted profile — for now assuming that there are two strands and only one task\n",
    "pred_profile_logits = np.reshape(predictions[0][idx, :, :],[1,args.output_len*2])\n",
    "\n",
    "profile_predictions = (np.exp(\\\n",
    "                              pred_profile_logits - \\\n",
    "                              logsumexp(\\\n",
    "                                        pred_profile_logits\\\n",
    "                                       )) * (np.exp(logcounts_prediction))\\\n",
    "                      )"
   ]
  },
  {
   "cell_type": "code",
   "execution_count": 177,
   "id": "33ce358e-4e49-4592-8728-9a2645c2c512",
   "metadata": {},
   "outputs": [
    {
     "data": {
      "text/plain": [
       "(200, 1)"
      ]
     },
     "execution_count": 177,
     "metadata": {},
     "output_type": "execute_result"
    }
   ],
   "source": [
    "prediction[1].shape"
   ]
  },
  {
   "cell_type": "code",
   "execution_count": 190,
   "id": "25c04acf-dc42-4db0-8cda-8a92fa9cd3e6",
   "metadata": {},
   "outputs": [],
   "source": [
    "output_len = 1000\n",
    "logcounts_prediction = prediction[1]         \n",
    "\n",
    "pred_profile_logits = np.reshape(prediction[0],[-1,output_len*2])\n",
    "\n",
    "profile_predictions = (np.exp(\\\n",
    "                              pred_profile_logits - \\\n",
    "                              logsumexp(pred_profile_logits,axis=1,keepdims=True) \\\n",
    "                             ) * (np.exp(logcounts_prediction))\\\n",
    "                      )\n",
    "profile_predictions = np.reshape(profile_predictions,[-1,output_len,2])"
   ]
  },
  {
   "cell_type": "code",
   "execution_count": 191,
   "id": "5114cd43-828a-4d1c-a155-92a2cdf41b9a",
   "metadata": {},
   "outputs": [
    {
     "data": {
      "text/plain": [
       "[<matplotlib.lines.Line2D at 0x7f8a141f8d68>,\n",
       " <matplotlib.lines.Line2D at 0x7f8a14211c88>]"
      ]
     },
     "execution_count": 191,
     "metadata": {},
     "output_type": "execute_result"
    },
    {
     "data": {
      "image/png": "[encoded data removed]",
      "text/plain": [
       "<Figure size 432x288 with 1 Axes>"
      ]
     },
     "metadata": {
      "needs_background": "light"
     },
     "output_type": "display_data"
    }
   ],
   "source": [
    "import matplotlib.pyplot as plt\n",
    "plt.plot(range(1000),np.mean(profile_predictions,axis=0))"
   ]
  },
  {
   "cell_type": "code",
   "execution_count": 186,
   "id": "37c88fc9-e052-4d59-b7aa-624763a4c3db",
   "metadata": {},
   "outputs": [
    {
     "data": {
      "text/plain": [
       "array([[0.00050921, 0.00050416, 0.00047505, ..., 0.00048324, 0.00055253,\n",
       "        0.00042335],\n",
       "       [0.00053982, 0.00045292, 0.00047645, ..., 0.00039012, 0.00045045,\n",
       "        0.00056903],\n",
       "       [0.00057406, 0.00044161, 0.00046096, ..., 0.00048566, 0.00060461,\n",
       "        0.00038415],\n",
       "       ...,\n",
       "       [0.00051356, 0.00048528, 0.00040337, ..., 0.00044361, 0.00061267,\n",
       "        0.00039695],\n",
       "       [0.00057603, 0.00052705, 0.00058468, ..., 0.00047483, 0.00045051,\n",
       "        0.00054338],\n",
       "       [0.00062124, 0.000492  , 0.00045753, ..., 0.00049327, 0.0004831 ,\n",
       "        0.00050403]], dtype=float32)"
      ]
     },
     "execution_count": 186,
     "metadata": {},
     "output_type": "execute_result"
    }
   ],
   "source": [
    "np.exp(\\\n",
    "                              pred_profile_logits - \\\n",
    "                              logsumexp(pred_profile_logits,axis=1,keepdims=True) \\\n",
    "                             )"
   ]
  },
  {
   "cell_type": "code",
   "execution_count": null,
   "id": "9b9da7d6-58fd-432a-b3cb-8c09986736de",
   "metadata": {},
   "outputs": [],
   "source": [
    "def vectorized_logits_to_profile(prediction):\n",
    "        logits_arr = np.array([i[0,:,1] for i in prediction[0]])\n",
    "        counts_arr = np.array([i[0,1] for i in prediction[1]])\n",
    "        probVals_array = np.exp(logits_arr - np.log(np.sum(np.exp(logits_arr),axis=1)).reshape(len(logits_arr),1))\n",
    "        plus = np.multiply(np.exp(counts_arr).reshape(len(counts_arr),1), probVals_array)\n",
    "\n"
   ]
  }
 ],
 "metadata": {
  "kernelspec": {
   "display_name": "basepairmodels_latest",
   "language": "python",
   "name": "basepairmodels_latest"
  },
  "language_info": {
   "codemirror_mode": {
    "name": "ipython",
    "version": 3
   },
   "file_extension": ".py",
   "mimetype": "text/x-python",
   "name": "python",
   "nbconvert_exporter": "python",
   "pygments_lexer": "ipython3",
   "version": "3.7.0"
  }
 },
 "nbformat": 4,
 "nbformat_minor": 5
}
