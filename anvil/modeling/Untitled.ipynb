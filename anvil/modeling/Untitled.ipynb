{
 "cells": [
  {
   "cell_type": "code",
   "execution_count": 4,
   "id": "a1a44cfd-d64c-458e-a47a-f4dfc453c01d",
   "metadata": {},
   "outputs": [
    {
     "name": "stdout",
     "output_type": "stream",
     "text": [
      "0 sd\n",
      "1 sds\n"
     ]
    }
   ],
   "source": [
    "for index,i in enumerate(['sd','sds']):\n",
    "    print(inf,i)"
   ]
  },
  {
   "cell_type": "code",
   "execution_count": 5,
   "id": "36958f21-cc51-4725-ae6c-7446afdede5d",
   "metadata": {},
   "outputs": [],
   "source": [
    "from scipy.spatial.distance import jensenshannon"
   ]
  },
  {
   "cell_type": "code",
   "execution_count": 7,
   "id": "332a9322-638b-411b-924c-d150ded42940",
   "metadata": {},
   "outputs": [],
   "source": [
    "import numpy as np"
   ]
  },
  {
   "cell_type": "code",
   "execution_count": 11,
   "id": "40955042-f906-4398-b661-b22e64882a03",
   "metadata": {},
   "outputs": [
    {
     "data": {
      "text/plain": [
       "array([[ 0.3884779 , -0.10282707, -0.28046676,  0.94322203],\n",
       "       [ 1.47525405, -0.15213832,  1.22995207, -0.27261961]])"
      ]
     },
     "execution_count": 11,
     "metadata": {},
     "output_type": "execute_result"
    }
   ],
   "source": [
    "np.random.randn(2, 4)"
   ]
  },
  {
   "cell_type": "code",
   "execution_count": 43,
   "id": "8280ae64-ca1f-456a-a242-5cb80b01de2f",
   "metadata": {},
   "outputs": [
    {
     "data": {
      "text/plain": [
       "array([[ 0.75960347,  0.02251224,  1.59823904,  0.13233961],\n",
       "       [ 0.80117815, -0.62995394,  0.816476  , -0.20195428],\n",
       "       [ 0.        ,  0.        ,  0.        ,  0.        ]])"
      ]
     },
     "execution_count": 43,
     "metadata": {},
     "output_type": "execute_result"
    }
   ],
   "source": [
    "gaussian_filter1d(np.concatenate((np.random.randn(2, 4),np.array([0.0,0,0,0]).reshape(1,4))),sigma=0.5,axis=1)"
   ]
  },
  {
   "cell_type": "code",
   "execution_count": 64,
   "id": "ee38041f-dee0-47b7-82b1-cf77d41733a9",
   "metadata": {},
   "outputs": [],
   "source": [
    "pred_profile = np.random.randn(50, 1000,2).reshape(-1,2000)"
   ]
  },
  {
   "cell_type": "code",
   "execution_count": 59,
   "id": "d5a3ab9c-13d9-4a97-899a-078ec5a833e0",
   "metadata": {},
   "outputs": [
    {
     "data": {
      "text/plain": [
       "2000"
      ]
     },
     "execution_count": 59,
     "metadata": {},
     "output_type": "execute_result"
    }
   ],
   "source": [
    "pred_profile.shape[0]"
   ]
  },
  {
   "cell_type": "code",
   "execution_count": 60,
   "id": "4d7d8176-2e16-4ace-acde-2b09d5ddb453",
   "metadata": {},
   "outputs": [],
   "source": [
    "pred_profile_prob = pred_profile / np.sum(pred_profile,axis=1).reshape(pred_profile.shape[0],1)"
   ]
  },
  {
   "cell_type": "code",
   "execution_count": 62,
   "id": "1fdf4365-b5da-4386-93a8-f7ed341b8f54",
   "metadata": {},
   "outputs": [
    {
     "data": {
      "text/plain": [
       "(50, 2000)"
      ]
     },
     "execution_count": 62,
     "metadata": {},
     "output_type": "execute_result"
    }
   ],
   "source": [
    "pred_profile_prob.shape"
   ]
  },
  {
   "cell_type": "code",
   "execution_count": 53,
   "id": "fca9965e-b1b1-4c6d-b35d-af1d93bb9e26",
   "metadata": {},
   "outputs": [
    {
     "name": "stderr",
     "output_type": "stream",
     "text": [
      "/users/vir/anaconda3/envs/basepairmodels_latest/lib/python3.7/site-packages/ipykernel_launcher.py:1: RuntimeWarning: invalid value encountered in true_divide\n",
      "  \"\"\"Entry point for launching an IPython kernel.\n"
     ]
    },
    {
     "data": {
      "text/plain": [
       "array([[-5.68641609, -1.5522246 ,  5.04368528,  3.19495541],\n",
       "       [ 0.66093011,  0.46116659, -0.2454665 ,  0.1233698 ],\n",
       "       [        nan,         nan,         nan,         nan]])"
      ]
     },
     "execution_count": 53,
     "metadata": {},
     "output_type": "execute_result"
    }
   ],
   "source": [
    "pred_profile/(np.sum(pred_profile,axis=1).reshape(3,1))"
   ]
  },
  {
   "cell_type": "code",
   "execution_count": 50,
   "id": "6f94adaf-78a6-4650-acda-de854dbc5bdf",
   "metadata": {},
   "outputs": [
    {
     "data": {
      "text/plain": [
       "array([-0.11202276, -1.56859551,  0.        ])"
      ]
     },
     "execution_count": 50,
     "metadata": {},
     "output_type": "execute_result"
    }
   ],
   "source": [
    "np.sum(pred_profile,axis=1)"
   ]
  },
  {
   "cell_type": "code",
   "execution_count": 38,
   "id": "63dcfbe4-a2a4-4d9c-b0ba-587a67d629fa",
   "metadata": {},
   "outputs": [
    {
     "data": {
      "text/plain": [
       "\u001b[0;31mSignature:\u001b[0m\n",
       "\u001b[0mgaussian_filter1d\u001b[0m\u001b[0;34m(\u001b[0m\u001b[0;34m\u001b[0m\n",
       "\u001b[0;34m\u001b[0m    \u001b[0minput\u001b[0m\u001b[0;34m,\u001b[0m\u001b[0;34m\u001b[0m\n",
       "\u001b[0;34m\u001b[0m    \u001b[0msigma\u001b[0m\u001b[0;34m,\u001b[0m\u001b[0;34m\u001b[0m\n",
       "\u001b[0;34m\u001b[0m    \u001b[0maxis\u001b[0m\u001b[0;34m=\u001b[0m\u001b[0;34m-\u001b[0m\u001b[0;36m1\u001b[0m\u001b[0;34m,\u001b[0m\u001b[0;34m\u001b[0m\n",
       "\u001b[0;34m\u001b[0m    \u001b[0morder\u001b[0m\u001b[0;34m=\u001b[0m\u001b[0;36m0\u001b[0m\u001b[0;34m,\u001b[0m\u001b[0;34m\u001b[0m\n",
       "\u001b[0;34m\u001b[0m    \u001b[0moutput\u001b[0m\u001b[0;34m=\u001b[0m\u001b[0;32mNone\u001b[0m\u001b[0;34m,\u001b[0m\u001b[0;34m\u001b[0m\n",
       "\u001b[0;34m\u001b[0m    \u001b[0mmode\u001b[0m\u001b[0;34m=\u001b[0m\u001b[0;34m'reflect'\u001b[0m\u001b[0;34m,\u001b[0m\u001b[0;34m\u001b[0m\n",
       "\u001b[0;34m\u001b[0m    \u001b[0mcval\u001b[0m\u001b[0;34m=\u001b[0m\u001b[0;36m0.0\u001b[0m\u001b[0;34m,\u001b[0m\u001b[0;34m\u001b[0m\n",
       "\u001b[0;34m\u001b[0m    \u001b[0mtruncate\u001b[0m\u001b[0;34m=\u001b[0m\u001b[0;36m4.0\u001b[0m\u001b[0;34m,\u001b[0m\u001b[0;34m\u001b[0m\n",
       "\u001b[0;34m\u001b[0m\u001b[0;34m)\u001b[0m\u001b[0;34m\u001b[0m\u001b[0m\n",
       "\u001b[0;31mDocstring:\u001b[0m\n",
       "1-D Gaussian filter.\n",
       "\n",
       "Parameters\n",
       "----------\n",
       "input : array_like\n",
       "    The input array.\n",
       "sigma : scalar\n",
       "    standard deviation for Gaussian kernel\n",
       "axis : int, optional\n",
       "    The axis of `input` along which to calculate. Default is -1.\n",
       "order : int, optional\n",
       "    An order of 0 corresponds to convolution with a Gaussian\n",
       "    kernel. A positive order corresponds to convolution with\n",
       "    that derivative of a Gaussian.\n",
       "output : array or dtype, optional\n",
       "    The array in which to place the output, or the dtype of the\n",
       "    returned array. By default an array of the same dtype as input\n",
       "    will be created.\n",
       "mode : {'reflect', 'constant', 'nearest', 'mirror', 'wrap'}, optional\n",
       "    The `mode` parameter determines how the input array is extended\n",
       "    beyond its boundaries. Default is 'reflect'. Behavior for each valid\n",
       "    value is as follows:\n",
       "\n",
       "    'reflect' (`d c b a | a b c d | d c b a`)\n",
       "        The input is extended by reflecting about the edge of the last\n",
       "        pixel. This mode is also sometimes referred to as half-sample\n",
       "        symmetric.\n",
       "\n",
       "    'constant' (`k k k k | a b c d | k k k k`)\n",
       "        The input is extended by filling all values beyond the edge with\n",
       "        the same constant value, defined by the `cval` parameter.\n",
       "\n",
       "    'nearest' (`a a a a | a b c d | d d d d`)\n",
       "        The input is extended by replicating the last pixel.\n",
       "\n",
       "    'mirror' (`d c b | a b c d | c b a`)\n",
       "        The input is extended by reflecting about the center of the last\n",
       "        pixel. This mode is also sometimes referred to as whole-sample\n",
       "        symmetric.\n",
       "\n",
       "    'wrap' (`a b c d | a b c d | a b c d`)\n",
       "        The input is extended by wrapping around to the opposite edge.\n",
       "\n",
       "    For consistency with the interpolation functions, the following mode\n",
       "    names can also be used:\n",
       "\n",
       "    'grid-mirror'\n",
       "        This is a synonym for 'reflect'.\n",
       "\n",
       "    'grid-constant'\n",
       "        This is a synonym for 'constant'.\n",
       "\n",
       "    'grid-wrap'\n",
       "        This is a synonym for 'wrap'.\n",
       "cval : scalar, optional\n",
       "    Value to fill past edges of input if `mode` is 'constant'. Default\n",
       "    is 0.0.\n",
       "truncate : float, optional\n",
       "    Truncate the filter at this many standard deviations.\n",
       "    Default is 4.0.\n",
       "\n",
       "Returns\n",
       "-------\n",
       "gaussian_filter1d : ndarray\n",
       "\n",
       "Examples\n",
       "--------\n",
       ">>> from scipy.ndimage import gaussian_filter1d\n",
       ">>> gaussian_filter1d([1.0, 2.0, 3.0, 4.0, 5.0], 1)\n",
       "array([ 1.42704095,  2.06782203,  3.        ,  3.93217797,  4.57295905])\n",
       ">>> gaussian_filter1d([1.0, 2.0, 3.0, 4.0, 5.0], 4)\n",
       "array([ 2.91948343,  2.95023502,  3.        ,  3.04976498,  3.08051657])\n",
       ">>> import matplotlib.pyplot as plt\n",
       ">>> rng = np.random.default_rng()\n",
       ">>> x = rng.standard_normal(101).cumsum()\n",
       ">>> y3 = gaussian_filter1d(x, 3)\n",
       ">>> y6 = gaussian_filter1d(x, 6)\n",
       ">>> plt.plot(x, 'k', label='original data')\n",
       ">>> plt.plot(y3, '--', label='filtered, sigma=3')\n",
       ">>> plt.plot(y6, ':', label='filtered, sigma=6')\n",
       ">>> plt.legend()\n",
       ">>> plt.grid()\n",
       ">>> plt.show()\n",
       "\u001b[0;31mSource:\u001b[0m   \n",
       "\u001b[0;34m@\u001b[0m\u001b[0m_ni_docstrings\u001b[0m\u001b[0;34m.\u001b[0m\u001b[0mdocfiller\u001b[0m\u001b[0;34m\u001b[0m\n",
       "\u001b[0;34m\u001b[0m\u001b[0;32mdef\u001b[0m \u001b[0mgaussian_filter1d\u001b[0m\u001b[0;34m(\u001b[0m\u001b[0minput\u001b[0m\u001b[0;34m,\u001b[0m \u001b[0msigma\u001b[0m\u001b[0;34m,\u001b[0m \u001b[0maxis\u001b[0m\u001b[0;34m=\u001b[0m\u001b[0;34m-\u001b[0m\u001b[0;36m1\u001b[0m\u001b[0;34m,\u001b[0m \u001b[0morder\u001b[0m\u001b[0;34m=\u001b[0m\u001b[0;36m0\u001b[0m\u001b[0;34m,\u001b[0m \u001b[0moutput\u001b[0m\u001b[0;34m=\u001b[0m\u001b[0;32mNone\u001b[0m\u001b[0;34m,\u001b[0m\u001b[0;34m\u001b[0m\n",
       "\u001b[0;34m\u001b[0m                      \u001b[0mmode\u001b[0m\u001b[0;34m=\u001b[0m\u001b[0;34m\"reflect\"\u001b[0m\u001b[0;34m,\u001b[0m \u001b[0mcval\u001b[0m\u001b[0;34m=\u001b[0m\u001b[0;36m0.0\u001b[0m\u001b[0;34m,\u001b[0m \u001b[0mtruncate\u001b[0m\u001b[0;34m=\u001b[0m\u001b[0;36m4.0\u001b[0m\u001b[0;34m)\u001b[0m\u001b[0;34m:\u001b[0m\u001b[0;34m\u001b[0m\n",
       "\u001b[0;34m\u001b[0m    \u001b[0;34m\"\"\"1-D Gaussian filter.\u001b[0m\n",
       "\u001b[0;34m\u001b[0m\n",
       "\u001b[0;34m    Parameters\u001b[0m\n",
       "\u001b[0;34m    ----------\u001b[0m\n",
       "\u001b[0;34m    %(input)s\u001b[0m\n",
       "\u001b[0;34m    sigma : scalar\u001b[0m\n",
       "\u001b[0;34m        standard deviation for Gaussian kernel\u001b[0m\n",
       "\u001b[0;34m    %(axis)s\u001b[0m\n",
       "\u001b[0;34m    order : int, optional\u001b[0m\n",
       "\u001b[0;34m        An order of 0 corresponds to convolution with a Gaussian\u001b[0m\n",
       "\u001b[0;34m        kernel. A positive order corresponds to convolution with\u001b[0m\n",
       "\u001b[0;34m        that derivative of a Gaussian.\u001b[0m\n",
       "\u001b[0;34m    %(output)s\u001b[0m\n",
       "\u001b[0;34m    %(mode_reflect)s\u001b[0m\n",
       "\u001b[0;34m    %(cval)s\u001b[0m\n",
       "\u001b[0;34m    truncate : float, optional\u001b[0m\n",
       "\u001b[0;34m        Truncate the filter at this many standard deviations.\u001b[0m\n",
       "\u001b[0;34m        Default is 4.0.\u001b[0m\n",
       "\u001b[0;34m\u001b[0m\n",
       "\u001b[0;34m    Returns\u001b[0m\n",
       "\u001b[0;34m    -------\u001b[0m\n",
       "\u001b[0;34m    gaussian_filter1d : ndarray\u001b[0m\n",
       "\u001b[0;34m\u001b[0m\n",
       "\u001b[0;34m    Examples\u001b[0m\n",
       "\u001b[0;34m    --------\u001b[0m\n",
       "\u001b[0;34m    >>> from scipy.ndimage import gaussian_filter1d\u001b[0m\n",
       "\u001b[0;34m    >>> gaussian_filter1d([1.0, 2.0, 3.0, 4.0, 5.0], 1)\u001b[0m\n",
       "\u001b[0;34m    array([ 1.42704095,  2.06782203,  3.        ,  3.93217797,  4.57295905])\u001b[0m\n",
       "\u001b[0;34m    >>> gaussian_filter1d([1.0, 2.0, 3.0, 4.0, 5.0], 4)\u001b[0m\n",
       "\u001b[0;34m    array([ 2.91948343,  2.95023502,  3.        ,  3.04976498,  3.08051657])\u001b[0m\n",
       "\u001b[0;34m    >>> import matplotlib.pyplot as plt\u001b[0m\n",
       "\u001b[0;34m    >>> rng = np.random.default_rng()\u001b[0m\n",
       "\u001b[0;34m    >>> x = rng.standard_normal(101).cumsum()\u001b[0m\n",
       "\u001b[0;34m    >>> y3 = gaussian_filter1d(x, 3)\u001b[0m\n",
       "\u001b[0;34m    >>> y6 = gaussian_filter1d(x, 6)\u001b[0m\n",
       "\u001b[0;34m    >>> plt.plot(x, 'k', label='original data')\u001b[0m\n",
       "\u001b[0;34m    >>> plt.plot(y3, '--', label='filtered, sigma=3')\u001b[0m\n",
       "\u001b[0;34m    >>> plt.plot(y6, ':', label='filtered, sigma=6')\u001b[0m\n",
       "\u001b[0;34m    >>> plt.legend()\u001b[0m\n",
       "\u001b[0;34m    >>> plt.grid()\u001b[0m\n",
       "\u001b[0;34m    >>> plt.show()\u001b[0m\n",
       "\u001b[0;34m\u001b[0m\n",
       "\u001b[0;34m    \"\"\"\u001b[0m\u001b[0;34m\u001b[0m\n",
       "\u001b[0;34m\u001b[0m    \u001b[0msd\u001b[0m \u001b[0;34m=\u001b[0m \u001b[0mfloat\u001b[0m\u001b[0;34m(\u001b[0m\u001b[0msigma\u001b[0m\u001b[0;34m)\u001b[0m\u001b[0;34m\u001b[0m\n",
       "\u001b[0;34m\u001b[0m    \u001b[0;31m# make the radius of the filter equal to truncate standard deviations\u001b[0m\u001b[0;34m\u001b[0m\n",
       "\u001b[0;34m\u001b[0m    \u001b[0mlw\u001b[0m \u001b[0;34m=\u001b[0m \u001b[0mint\u001b[0m\u001b[0;34m(\u001b[0m\u001b[0mtruncate\u001b[0m \u001b[0;34m*\u001b[0m \u001b[0msd\u001b[0m \u001b[0;34m+\u001b[0m \u001b[0;36m0.5\u001b[0m\u001b[0;34m)\u001b[0m\u001b[0;34m\u001b[0m\n",
       "\u001b[0;34m\u001b[0m    \u001b[0;31m# Since we are calling correlate, not convolve, revert the kernel\u001b[0m\u001b[0;34m\u001b[0m\n",
       "\u001b[0;34m\u001b[0m    \u001b[0mweights\u001b[0m \u001b[0;34m=\u001b[0m \u001b[0m_gaussian_kernel1d\u001b[0m\u001b[0;34m(\u001b[0m\u001b[0msigma\u001b[0m\u001b[0;34m,\u001b[0m \u001b[0morder\u001b[0m\u001b[0;34m,\u001b[0m \u001b[0mlw\u001b[0m\u001b[0;34m)\u001b[0m\u001b[0;34m[\u001b[0m\u001b[0;34m:\u001b[0m\u001b[0;34m:\u001b[0m\u001b[0;34m-\u001b[0m\u001b[0;36m1\u001b[0m\u001b[0;34m]\u001b[0m\u001b[0;34m\u001b[0m\n",
       "\u001b[0;34m\u001b[0m    \u001b[0;32mreturn\u001b[0m \u001b[0mcorrelate1d\u001b[0m\u001b[0;34m(\u001b[0m\u001b[0minput\u001b[0m\u001b[0;34m,\u001b[0m \u001b[0mweights\u001b[0m\u001b[0;34m,\u001b[0m \u001b[0maxis\u001b[0m\u001b[0;34m,\u001b[0m \u001b[0moutput\u001b[0m\u001b[0;34m,\u001b[0m \u001b[0mmode\u001b[0m\u001b[0;34m,\u001b[0m \u001b[0mcval\u001b[0m\u001b[0;34m,\u001b[0m \u001b[0;36m0\u001b[0m\u001b[0;34m)\u001b[0m\u001b[0;34m\u001b[0m\u001b[0m\n",
       "\u001b[0;31mFile:\u001b[0m      ~/anaconda3/envs/basepairmodels_latest/lib/python3.7/site-packages/scipy/ndimage/filters.py\n",
       "\u001b[0;31mType:\u001b[0m      function\n"
      ]
     },
     "metadata": {},
     "output_type": "display_data"
    }
   ],
   "source": [
    "from scipy.ndimage import gaussian_filter1d\n",
    "??gaussian_filter1d"
   ]
  },
  {
   "cell_type": "code",
   "execution_count": null,
   "id": "38b375f7-c1af-439e-ad5c-6676d98d3622",
   "metadata": {},
   "outputs": [],
   "source": []
  }
 ],
 "metadata": {
  "kernelspec": {
   "display_name": "basepairmodels_latest",
   "language": "python",
   "name": "basepairmodels_latest"
  },
  "language_info": {
   "codemirror_mode": {
    "name": "ipython",
    "version": 3
   },
   "file_extension": ".py",
   "mimetype": "text/x-python",
   "name": "python",
   "nbconvert_exporter": "python",
   "pygments_lexer": "ipython3",
   "version": "3.7.0"
  }
 },
 "nbformat": 4,
 "nbformat_minor": 5
}
