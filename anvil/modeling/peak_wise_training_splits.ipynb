{
 "cells": [
  {
   "cell_type": "code",
   "execution_count": 1,
   "metadata": {},
   "outputs": [],
   "source": [
    "from IPython.core.interactiveshell import InteractiveShell\n",
    "InteractiveShell.ast_node_interactivity = \"all\""
   ]
  },
  {
   "cell_type": "code",
   "execution_count": 2,
   "metadata": {},
   "outputs": [
    {
     "name": "stdout",
     "output_type": "stream",
     "text": [
      "Creating Splits\n"
     ]
    }
   ],
   "source": [
    "from itertools import count\n",
    "import json\n",
    "import argparse\n",
    "import os\n",
    "import random\n",
    "import pandas as pd\n",
    "import numpy as np\n",
    "import pyBigWig\n",
    "\n",
    "NARROWPEAK_SCHEMA = [\"chr\", \"start\", \"end\", \"1\", \"2\", \"3\", \"4\", \"5\", \"6\", \"summit\"]\n",
    "\n",
    "peak_regions_df = pd.read_csv(\"/mnt/lab_data2/vir/tf_chr_atlas/temp/docker_modelling/ENCSR142IGM_peaks_inliers.bed.gz\", sep='\\t', names=NARROWPEAK_SCHEMA)\n",
    "peak_regions_df['region']='peak'\n",
    "peak_regions_df['ind']=range(len(peak_regions_df))\n",
    "nonpeak_regions_df = pd.read_csv(\"/mnt/lab_data2/vir/tf_chr_atlas/temp/docker_modelling/ENCSR142IGM_gc_neg_only.bed.gz\", sep='\\t', names=NARROWPEAK_SCHEMA)\n",
    "nonpeak_regions_df['region']='nonpeak'\n",
    "nonpeak_regions_df['ind']=range(len(nonpeak_regions_df))\n",
    "\n",
    "\n",
    "all_regions_df = pd.concat([peak_regions_df,nonpeak_regions_df])\n",
    "all_regions_df['pos']=all_regions_df['start']+all_regions_df['summit']\n",
    "all_regions_df.sort_values(by=['chr', 'pos'], inplace=True)\n",
    "all_regions_df=all_regions_df.reset_index(drop=True)\n",
    "\n",
    "print(\"Creating Splits\")\n",
    "\n",
    "group_dict = {}\n",
    "\n",
    "inputlen=2114\n",
    "max_jitter=32\n",
    "\n",
    "cur_chrom = ''\n",
    "cur_group = ''\n",
    "last_pos = 0\n",
    "for index,row in all_regions_df.iterrows():\n",
    "    if cur_chrom != '':\n",
    "        if row['chr'] != cur_chrom:\n",
    "            cur_chrom = row['chr']\n",
    "            cur_group += 1\n",
    "            group_dict[cur_group] = [row]\n",
    "        else:\n",
    "            if row['pos'] <= int(last_pos) + int(inputlen) + int(2 * max_jitter):\n",
    "                group_dict[cur_group].append(row)\n",
    "            else:\n",
    "                cur_group += 1\n",
    "                group_dict[cur_group] = [row]\n",
    "    else:\n",
    "        cur_chrom = row['chr']\n",
    "        cur_group = 0\n",
    "        group_dict[cur_group] = [row]\n",
    "    last_pos = row['pos']\n",
    "    \n",
    "groups = []\n",
    "group_counts = []\n",
    "bigwig = '/mnt/lab_data2/vir/tf_chr_atlas/temp/docker_modelling/ENCSR142IGM_plus.bigWig'\n",
    "bw = pyBigWig.open(bigwig)\n",
    "\n",
    "for group in group_dict:\n",
    "    groups.append(group)\n",
    "    sum = 0\n",
    "    for element in group_dict[group]:\n",
    "        labels = bw.values(element['chr'], int(element['pos'] - (inputlen // 2)), int(element['pos'] + (inputlen // 2)))\n",
    "        labels = np.array(labels)\n",
    "        labels = np.nan_to_num(labels)\n",
    "        labels = np.sum(labels)\n",
    "        sum += labels\n",
    "    group_counts.append(sum)\n",
    "group_df = pd.DataFrame({'groups': groups, 'group_counts': group_counts})\n",
    "group_df.sort_values(by='group_counts', inplace=True)\n",
    "\n"
   ]
  },
  {
   "cell_type": "code",
   "execution_count": 3,
   "metadata": {},
   "outputs": [],
   "source": [
    "number_of_folds = 5"
   ]
  },
  {
   "cell_type": "code",
   "execution_count": 5,
   "metadata": {
    "tags": []
   },
   "outputs": [
    {
     "name": "stdout",
     "output_type": "stream",
     "text": [
      "val_chuncks: [0, 1, 2, 3, 4]\n",
      "test_chuncks: [1, 2, 3, 4, 0]\n"
     ]
    }
   ],
   "source": [
    "# split the data into x number of chuncks for x folds. allocate the chuncks to train, test, valid folds in unique ways\n",
    "# across folds\n",
    "chuncksets_dict={}\n",
    "for fold in range(number_of_folds):\n",
    "    chuncksets_dict[f\"chuncksets_{fold}\"]=list(range(fold,len(group_df),number_of_folds))\n",
    "    \n",
    "val_chuncks = list(range(0,number_of_folds))\n",
    "print(\"val_chuncks:\",val_chuncks)\n",
    "test_chuncks = list(range(1,number_of_folds))+[0]\n",
    "print(\"test_chuncks:\",test_chuncks)\n",
    "\n",
    "group_fold_df=pd.DataFrame(index=np.arange(len(group_df)))\n",
    "for fold in range(number_of_folds):\n",
    "    group_fold_df[f\"fold{fold}\"]='train'\n",
    "    group_fold_df[f\"fold{fold}\"][chuncksets_dict[f\"chuncksets_{val_chuncks[fold]}\"]] = 'valid'\n",
    "    group_fold_df[f\"fold{fold}\"][chuncksets_dict[f\"chuncksets_{test_chuncks[fold]}\"]] = 'test'\n",
    "print(group_fold_df)\n",
    "\n",
    "for fold in range(number_of_folds):\n",
    "    print(\"fold:\",fold)\n",
    "    len(group_fold_df[group_fold_df[f\"fold{fold}\"]==\"train\"])/len(group_fold_df)\n",
    "\n",
    "    len(group_fold_df[group_fold_df[f\"fold{fold}\"]==\"test\"])/len(group_fold_df)\n",
    "\n",
    "    len(group_fold_df[group_fold_df[f\"fold{fold}\"]==\"valid\"])/len(group_fold_df)\n",
    "\n"
   ]
  },
  {
   "cell_type": "code",
   "execution_count": 8,
   "metadata": {
    "tags": []
   },
   "outputs": [
    {
     "data": {
      "text/html": [
       "<div>\n",
       "<style scoped>\n",
       "    .dataframe tbody tr th:only-of-type {\n",
       "        vertical-align: middle;\n",
       "    }\n",
       "\n",
       "    .dataframe tbody tr th {\n",
       "        vertical-align: top;\n",
       "    }\n",
       "\n",
       "    .dataframe thead th {\n",
       "        text-align: right;\n",
       "    }\n",
       "</style>\n",
       "<table border=\"1\" class=\"dataframe\">\n",
       "  <thead>\n",
       "    <tr style=\"text-align: right;\">\n",
       "      <th></th>\n",
       "      <th>groups</th>\n",
       "      <th>group_counts</th>\n",
       "      <th>fold0</th>\n",
       "      <th>fold1</th>\n",
       "      <th>fold2</th>\n",
       "      <th>fold3</th>\n",
       "      <th>fold4</th>\n",
       "    </tr>\n",
       "  </thead>\n",
       "  <tbody>\n",
       "    <tr>\n",
       "      <th>164291</th>\n",
       "      <td>164291</td>\n",
       "      <td>0.0</td>\n",
       "      <td>test</td>\n",
       "      <td>valid</td>\n",
       "      <td>train</td>\n",
       "      <td>train</td>\n",
       "      <td>train</td>\n",
       "    </tr>\n",
       "    <tr>\n",
       "      <th>127077</th>\n",
       "      <td>127077</td>\n",
       "      <td>0.0</td>\n",
       "      <td>train</td>\n",
       "      <td>test</td>\n",
       "      <td>valid</td>\n",
       "      <td>train</td>\n",
       "      <td>train</td>\n",
       "    </tr>\n",
       "    <tr>\n",
       "      <th>150211</th>\n",
       "      <td>150211</td>\n",
       "      <td>0.0</td>\n",
       "      <td>test</td>\n",
       "      <td>valid</td>\n",
       "      <td>train</td>\n",
       "      <td>train</td>\n",
       "      <td>train</td>\n",
       "    </tr>\n",
       "    <tr>\n",
       "      <th>205607</th>\n",
       "      <td>205607</td>\n",
       "      <td>0.0</td>\n",
       "      <td>train</td>\n",
       "      <td>test</td>\n",
       "      <td>valid</td>\n",
       "      <td>train</td>\n",
       "      <td>train</td>\n",
       "    </tr>\n",
       "    <tr>\n",
       "      <th>205606</th>\n",
       "      <td>205606</td>\n",
       "      <td>0.0</td>\n",
       "      <td>test</td>\n",
       "      <td>valid</td>\n",
       "      <td>train</td>\n",
       "      <td>train</td>\n",
       "      <td>train</td>\n",
       "    </tr>\n",
       "    <tr>\n",
       "      <th>...</th>\n",
       "      <td>...</td>\n",
       "      <td>...</td>\n",
       "      <td>...</td>\n",
       "      <td>...</td>\n",
       "      <td>...</td>\n",
       "      <td>...</td>\n",
       "      <td>...</td>\n",
       "    </tr>\n",
       "    <tr>\n",
       "      <th>45877</th>\n",
       "      <td>45877</td>\n",
       "      <td>5272.0</td>\n",
       "      <td>train</td>\n",
       "      <td>test</td>\n",
       "      <td>valid</td>\n",
       "      <td>train</td>\n",
       "      <td>train</td>\n",
       "    </tr>\n",
       "    <tr>\n",
       "      <th>101000</th>\n",
       "      <td>101000</td>\n",
       "      <td>5402.0</td>\n",
       "      <td>valid</td>\n",
       "      <td>train</td>\n",
       "      <td>train</td>\n",
       "      <td>train</td>\n",
       "      <td>test</td>\n",
       "    </tr>\n",
       "    <tr>\n",
       "      <th>46663</th>\n",
       "      <td>46663</td>\n",
       "      <td>5468.0</td>\n",
       "      <td>train</td>\n",
       "      <td>train</td>\n",
       "      <td>test</td>\n",
       "      <td>valid</td>\n",
       "      <td>train</td>\n",
       "    </tr>\n",
       "    <tr>\n",
       "      <th>76680</th>\n",
       "      <td>76680</td>\n",
       "      <td>7740.0</td>\n",
       "      <td>valid</td>\n",
       "      <td>train</td>\n",
       "      <td>train</td>\n",
       "      <td>train</td>\n",
       "      <td>test</td>\n",
       "    </tr>\n",
       "    <tr>\n",
       "      <th>201990</th>\n",
       "      <td>201990</td>\n",
       "      <td>8378.0</td>\n",
       "      <td>valid</td>\n",
       "      <td>train</td>\n",
       "      <td>train</td>\n",
       "      <td>train</td>\n",
       "      <td>test</td>\n",
       "    </tr>\n",
       "  </tbody>\n",
       "</table>\n",
       "<p>213359 rows × 7 columns</p>\n",
       "</div>"
      ],
      "text/plain": [
       "        groups  group_counts  fold0  fold1  fold2  fold3  fold4\n",
       "164291  164291           0.0   test  valid  train  train  train\n",
       "127077  127077           0.0  train   test  valid  train  train\n",
       "150211  150211           0.0   test  valid  train  train  train\n",
       "205607  205607           0.0  train   test  valid  train  train\n",
       "205606  205606           0.0   test  valid  train  train  train\n",
       "...        ...           ...    ...    ...    ...    ...    ...\n",
       "45877    45877        5272.0  train   test  valid  train  train\n",
       "101000  101000        5402.0  valid  train  train  train   test\n",
       "46663    46663        5468.0  train  train   test  valid  train\n",
       "76680    76680        7740.0  valid  train  train  train   test\n",
       "201990  201990        8378.0  valid  train  train  train   test\n",
       "\n",
       "[213359 rows x 7 columns]"
      ]
     },
     "execution_count": 8,
     "metadata": {},
     "output_type": "execute_result"
    },
    {
     "name": "stdout",
     "output_type": "stream",
     "text": [
      "Saving Splits\n",
      "fold: 0\n",
      "split: valid\n",
      "proportion of peaks: 0.2015091219184454\n",
      "length of nonpeaks: 0.20041085353439977\n",
      "split: train\n",
      "proportion of peaks: 0.5962582045583751\n",
      "length of nonpeaks: 0.6002745164871102\n",
      "split: test\n",
      "proportion of peaks: 0.2022326735231795\n",
      "length of nonpeaks: 0.19931462997849006\n",
      "\n",
      "\n",
      "fold: 1\n",
      "split: valid\n",
      "proportion of peaks: 0.2022326735231795\n",
      "length of nonpeaks: 0.19931462997849006\n",
      "split: train\n",
      "proportion of peaks: 0.5983254948576153\n",
      "length of nonpeaks: 0.6004725736841863\n",
      "split: test\n",
      "proportion of peaks: 0.19944183161920512\n",
      "length of nonpeaks: 0.20021279633732364\n",
      "\n",
      "\n",
      "fold: 2\n",
      "split: valid\n",
      "proportion of peaks: 0.19944183161920512\n",
      "length of nonpeaks: 0.20021279633732364\n",
      "split: train\n",
      "proportion of peaks: 0.6007028787017417\n",
      "length of nonpeaks: 0.5999474918128682\n",
      "split: test\n",
      "proportion of peaks: 0.1998552896790532\n",
      "length of nonpeaks: 0.19983971184980817\n",
      "\n",
      "\n",
      "fold: 3\n",
      "split: valid\n",
      "proportion of peaks: 0.1998552896790532\n",
      "length of nonpeaks: 0.19983971184980817\n",
      "split: train\n",
      "proportion of peaks: 0.6031836270608301\n",
      "length of nonpeaks: 0.5999382798502135\n",
      "split: test\n",
      "proportion of peaks: 0.1969610832601168\n",
      "length of nonpeaks: 0.20022200829997835\n",
      "\n",
      "\n",
      "fold: 4\n",
      "split: valid\n",
      "proportion of peaks: 0.1969610832601168\n",
      "length of nonpeaks: 0.20022200829997835\n",
      "split: train\n",
      "proportion of peaks: 0.6015297948214378\n",
      "length of nonpeaks: 0.5993671381656219\n",
      "split: test\n",
      "proportion of peaks: 0.2015091219184454\n",
      "length of nonpeaks: 0.20041085353439977\n",
      "\n",
      "\n"
     ]
    }
   ],
   "source": [
    "# group_fold_dict = {}\n",
    "# for fold in range(number_of_folds):\n",
    "#     group_fold_dict[f\"fold{fold}\"]=[]\n",
    "\n",
    "# count = 0\n",
    "# valid_used = []\n",
    "\n",
    "\n",
    "\n",
    "# for index,row in group_df.iterrows():\n",
    "#     if index % 10000 == 0:\n",
    "#         print(index)\n",
    "#     if count % 2 == 0:\n",
    "#         test_or_valid = 'valid'\n",
    "#     else:\n",
    "#         test_or_valid = 'test'\n",
    "#     test_or_valid_fold = random.choice([i for i in range(number_of_folds) if i not in valid_used])\n",
    "#     for fold in range(number_of_folds):\n",
    "#         if fold != test_or_valid_fold:\n",
    "#             group_fold_dict[f\"fold{fold}\"].append('train')\n",
    "#         else:\n",
    "#             group_fold_dict[f\"fold{fold}\"].append(test_or_valid)\n",
    "#     count += 1\n",
    "#     valid_used.append(test_or_valid_fold)\n",
    "#     if len(valid_used) == number_of_folds:\n",
    "#         valid_used = []\n",
    "\n",
    "\n",
    "for fold in range(number_of_folds):\n",
    "    group_df['fold' + str(fold)] = group_fold_df['fold' + str(fold)]\n",
    "    \n",
    "group_df\n",
    "output_path =\".\"\n",
    "print(\"Saving Splits\")\n",
    "for fold in range(number_of_folds):\n",
    "    print(\"fold:\",fold)\n",
    "    for split in ['valid','train','test']:\n",
    "        temp_lst = [group_dict.get(key) for key in group_df['groups'][group_df[f\"fold{fold}\"]==split]] \n",
    "        peak_indices = [i['ind'] for b in map(lambda x:[x] if not isinstance(x, list) else x, temp_lst) for i in b if i['region']=='peak']\n",
    "        nonpeak_indices = [i['ind'] for b in map(lambda x:[x] if not isinstance(x, list) else x, temp_lst) for i in b if i['region']=='nonpeak']\n",
    "        print(\"split:\",split)\n",
    "        print(\"proportion of peaks:\",len(peak_indices)/len(peak_regions_df))\n",
    "        print(\"length of nonpeaks:\",len(nonpeak_indices)/len(nonpeak_regions_df))\n",
    "        \n",
    "        # f = open(f\"{output_path}/loci_{split}_indices_fold{fold}.txt\", \"w\")\n",
    "        # for items in peak_indices:\n",
    "        #     f.writelines(str(items)+'\\n')\n",
    "        # f.close()\n",
    "        # f = open(f\"{output_path}/background_{split}_indices_fold{fold}.txt\", \"w\")\n",
    "        # for items in nonpeak_indices:\n",
    "        #     f.writelines(str(items)+'\\n')\n",
    "        # f.close()\n",
    "        # nonpeak_regions_df.iloc[nonpeak_indices,0:10].to_csv(f\"{output_path}/background_peaks_{split}_fold{fold}.bed\",sep=\"\\t\",header=False,index=False)\n",
    "        # peak_regions_df.iloc[peak_indices,0:10].to_csv(f\"{output_path}/peaks_{split}_fold{fold}.bed\",sep=\"\\t\",header=False,index=False)\n",
    "    print(\"\\n\")\n",
    "\n",
    "from plotnine import *\n",
    "group_df[\"log_groupcounts\"]=np.log10(group_df[\"group_counts\"]+1)\n",
    "for fold in range(number_of_folds):\n",
    "    print(\"fold:\",fold)\n",
    "    plot = (ggplot(group_df,aes(\"log_groupcounts\"))\n",
    "                    +facet_wrap(f\"fold{fold}\")\n",
    "                    +geom_histogram(bins=30)\n",
    "                    +theme_classic()\n",
    "           )\n",
    "    plot.save(f'fold{fold}_counts_histogram_plot.png')"
   ]
  },
  {
   "cell_type": "code",
   "execution_count": 16,
   "metadata": {},
   "outputs": [
    {
     "name": "stdout",
     "output_type": "stream",
     "text": [
      "fold: 0\n"
     ]
    },
    {
     "name": "stderr",
     "output_type": "stream",
     "text": [
      "/users/vir/anaconda3/envs/basepairmodels_latest/lib/python3.7/site-packages/plotnine/ggplot.py:721: PlotnineWarning: Saving 6.4 x 4.8 in image.\n",
      "/users/vir/anaconda3/envs/basepairmodels_latest/lib/python3.7/site-packages/plotnine/ggplot.py:722: PlotnineWarning: Filename: fold0_counts_histogram_plot.jpg\n"
     ]
    },
    {
     "name": "stdout",
     "output_type": "stream",
     "text": [
      "fold: 1\n"
     ]
    },
    {
     "name": "stderr",
     "output_type": "stream",
     "text": [
      "/users/vir/anaconda3/envs/basepairmodels_latest/lib/python3.7/site-packages/plotnine/ggplot.py:721: PlotnineWarning: Saving 6.4 x 4.8 in image.\n",
      "/users/vir/anaconda3/envs/basepairmodels_latest/lib/python3.7/site-packages/plotnine/ggplot.py:722: PlotnineWarning: Filename: fold1_counts_histogram_plot.jpg\n"
     ]
    },
    {
     "name": "stdout",
     "output_type": "stream",
     "text": [
      "fold: 2\n"
     ]
    },
    {
     "name": "stderr",
     "output_type": "stream",
     "text": [
      "/users/vir/anaconda3/envs/basepairmodels_latest/lib/python3.7/site-packages/plotnine/ggplot.py:721: PlotnineWarning: Saving 6.4 x 4.8 in image.\n",
      "/users/vir/anaconda3/envs/basepairmodels_latest/lib/python3.7/site-packages/plotnine/ggplot.py:722: PlotnineWarning: Filename: fold2_counts_histogram_plot.jpg\n"
     ]
    },
    {
     "name": "stdout",
     "output_type": "stream",
     "text": [
      "fold: 3\n"
     ]
    },
    {
     "name": "stderr",
     "output_type": "stream",
     "text": [
      "/users/vir/anaconda3/envs/basepairmodels_latest/lib/python3.7/site-packages/plotnine/ggplot.py:721: PlotnineWarning: Saving 6.4 x 4.8 in image.\n",
      "/users/vir/anaconda3/envs/basepairmodels_latest/lib/python3.7/site-packages/plotnine/ggplot.py:722: PlotnineWarning: Filename: fold3_counts_histogram_plot.jpg\n"
     ]
    },
    {
     "name": "stdout",
     "output_type": "stream",
     "text": [
      "fold: 4\n"
     ]
    },
    {
     "name": "stderr",
     "output_type": "stream",
     "text": [
      "/users/vir/anaconda3/envs/basepairmodels_latest/lib/python3.7/site-packages/plotnine/ggplot.py:721: PlotnineWarning: Saving 6.4 x 4.8 in image.\n",
      "/users/vir/anaconda3/envs/basepairmodels_latest/lib/python3.7/site-packages/plotnine/ggplot.py:722: PlotnineWarning: Filename: fold4_counts_histogram_plot.jpg\n"
     ]
    }
   ],
   "source": [
    "from plotnine import *\n",
    "group_df[\"log_groupcounts\"]=np.log10(group_df[\"group_counts\"]+1)\n",
    "for fold in range(number_of_folds):\n",
    "    print(\"fold:\",fold)\n",
    "    plot = (ggplot(group_df,aes(\"log_groupcounts\"))\n",
    "                    +facet_wrap(f\"fold{fold}\")\n",
    "                    +geom_histogram(bins=30)\n",
    "                    +theme_classic()\n",
    "           )\n",
    "    plot.save(f'fold{fold}_counts_histogram_plot.png')"
   ]
  },
  {
   "cell_type": "code",
   "execution_count": 23,
   "metadata": {},
   "outputs": [],
   "source": [
    "%%bash\n",
    "bedtools intersect -a /mnt/lab_data2/vir/tf_chr_atlas/scripts/tf-atlas-pipeline/anvil/modeling/background_peaks_valid_fold0.bed -b /mnt/lab_data2/vir/tf_chr_atlas/scripts/tf-atlas-pipeline/anvil/modeling/peaks_valid_fold0.bed\n"
   ]
  },
  {
   "cell_type": "code",
   "execution_count": 25,
   "metadata": {},
   "outputs": [],
   "source": [
    "\n",
    "%%bash\n",
    "bedtools intersect -a /mnt/lab_data2/vir/tf_chr_atlas/scripts/tf-atlas-pipeline/anvil/modeling/peaks_test_fold0.bed -b /mnt/lab_data2/vir/tf_chr_atlas/scripts/tf-atlas-pipeline/anvil/modeling/peaks_valid_fold0.bed\n",
    "\n"
   ]
  },
  {
   "cell_type": "code",
   "execution_count": 81,
   "metadata": {},
   "outputs": [
    {
     "name": "stdout",
     "output_type": "stream",
     "text": [
      "fold0\n",
      "fold1\n",
      "fold2\n",
      "fold3\n",
      "fold4\n"
     ]
    }
   ],
   "source": [
    "%%bash\n",
    "for fold in {0..4}\n",
    "do\n",
    "echo \"fold${fold}\"\n",
    "bedtools intersect -a \"/mnt/lab_data2/vir/tf_chr_atlas/scripts/tf-atlas-pipeline/anvil/modeling/peaks_test_fold${fold}.bed\" -b \"/mnt/lab_data2/vir/tf_chr_atlas/scripts/tf-atlas-pipeline/anvil/modeling/peaks_train_fold${fold}.bed\"\n",
    "bedtools intersect -a \"/mnt/lab_data2/vir/tf_chr_atlas/scripts/tf-atlas-pipeline/anvil/modeling/background_peaks_test_fold${fold}.bed\" -b \"/mnt/lab_data2/vir/tf_chr_atlas/scripts/tf-atlas-pipeline/anvil/modeling/background_peaks_train_fold${fold}.bed\"\n",
    "bedtools intersect -a \"/mnt/lab_data2/vir/tf_chr_atlas/scripts/tf-atlas-pipeline/anvil/modeling/peaks_test_fold${fold}.bed\" -b \"/mnt/lab_data2/vir/tf_chr_atlas/scripts/tf-atlas-pipeline/anvil/modeling/peaks_valid_fold${fold}.bed\"\n",
    "bedtools intersect -a \"/mnt/lab_data2/vir/tf_chr_atlas/scripts/tf-atlas-pipeline/anvil/modeling/background_peaks_test_fold${fold}.bed\" -b \"/mnt/lab_data2/vir/tf_chr_atlas/scripts/tf-atlas-pipeline/anvil/modeling/background_peaks_valid_fold${fold}.bed\"\n",
    "bedtools intersect -a \"/mnt/lab_data2/vir/tf_chr_atlas/scripts/tf-atlas-pipeline/anvil/modeling/peaks_train_fold${fold}.bed\" -b \"/mnt/lab_data2/vir/tf_chr_atlas/scripts/tf-atlas-pipeline/anvil/modeling/peaks_valid_fold${fold}.bed\"\n",
    "bedtools intersect -a \"/mnt/lab_data2/vir/tf_chr_atlas/scripts/tf-atlas-pipeline/anvil/modeling/background_peaks_train_fold${fold}.bed\" -b \"/mnt/lab_data2/vir/tf_chr_atlas/scripts/tf-atlas-pipeline/anvil/modeling/background_peaks_valid_fold${fold}.bed\"\n",
    "done\n"
   ]
  },
  {
   "cell_type": "code",
   "execution_count": 73,
   "metadata": {},
   "outputs": [
    {
     "name": "stderr",
     "output_type": "stream",
     "text": [
      "IOPub data rate exceeded.\n",
      "The Jupyter server will temporarily stop sending output\n",
      "to the client in order to avoid crashing it.\n",
      "To change this limit, set the config variable\n",
      "`--ServerApp.iopub_data_rate_limit`.\n",
      "\n",
      "Current values:\n",
      "ServerApp.iopub_data_rate_limit=1000000.0 (bytes/sec)\n",
      "ServerApp.rate_limit_window=3.0 (secs)\n",
      "\n"
     ]
    }
   ],
   "source": [
    "%%bash\n",
    "for ((foldA = 0,foldB = 1 ; foldA <= 4,foldB <= 5 ; foldA++, foldB++))\n",
    "do\n",
    "    if [[ \"${foldB}\" == \"5\" ]]; then\n",
    "        echo \"${foldA},0\"\n",
    "        bedtools intersect -a \"/mnt/lab_data2/vir/tf_chr_atlas/scripts/tf-atlas-pipeline/anvil/modeling/peaks_train_fold${foldA}.bed\" -b \"/mnt/lab_data2/vir/tf_chr_atlas/scripts/tf-atlas-pipeline/anvil/modeling/peaks_train_fold0.bed\"\n",
    "    else\n",
    "        echo \"${foldA},${foldB}\"\n",
    "        bedtools intersect -a \"/mnt/lab_data2/vir/tf_chr_atlas/scripts/tf-atlas-pipeline/anvil/modeling/peaks_train_fold${foldA}.bed\" -b \"/mnt/lab_data2/vir/tf_chr_atlas/scripts/tf-atlas-pipeline/anvil/modeling/peaks_train_fold${foldB}.bed\"\n",
    "    fi\n",
    "done"
   ]
  },
  {
   "cell_type": "code",
   "execution_count": 78,
   "metadata": {},
   "outputs": [
    {
     "name": "stderr",
     "output_type": "stream",
     "text": [
      "IOPub data rate exceeded.\n",
      "The Jupyter server will temporarily stop sending output\n",
      "to the client in order to avoid crashing it.\n",
      "To change this limit, set the config variable\n",
      "`--ServerApp.iopub_data_rate_limit`.\n",
      "\n",
      "Current values:\n",
      "ServerApp.iopub_data_rate_limit=1000000.0 (bytes/sec)\n",
      "ServerApp.rate_limit_window=3.0 (secs)\n",
      "\n"
     ]
    }
   ],
   "source": [
    "%%bash\n",
    "for ((foldA = 0,foldB = 1 ; foldA <= 4,foldB <= 5 ; foldA++, foldB++))\n",
    "do\n",
    "    if [[ \"${foldB}\" == \"5\" ]]; then\n",
    "        echo \"${foldA},0\"\n",
    "        bedtools intersect -a \"/mnt/lab_data2/vir/tf_chr_atlas/scripts/tf-atlas-pipeline/anvil/modeling/background_peaks_train_fold${foldA}.bed\" -b \"/mnt/lab_data2/vir/tf_chr_atlas/scripts/tf-atlas-pipeline/anvil/modeling/background_peaks_train_fold0.bed\"\n",
    "    else\n",
    "        echo \"${foldA},${foldB}\"\n",
    "        bedtools intersect -a \"/mnt/lab_data2/vir/tf_chr_atlas/scripts/tf-atlas-pipeline/anvil/modeling/background_peaks_train_fold${foldA}.bed\" -b \"/mnt/lab_data2/vir/tf_chr_atlas/scripts/tf-atlas-pipeline/anvil/modeling/background_peaks_train_fold${foldB}.bed\"\n",
    "    fi\n",
    "done"
   ]
  },
  {
   "cell_type": "code",
   "execution_count": 74,
   "metadata": {},
   "outputs": [
    {
     "name": "stdout",
     "output_type": "stream",
     "text": [
      "0,1\n",
      "1,2\n",
      "2,3\n",
      "3,4\n",
      "4,0\n"
     ]
    }
   ],
   "source": [
    "%%bash\n",
    "for ((foldA = 0,foldB = 1 ; foldA <= 4,foldB <= 5 ; foldA++, foldB++))\n",
    "do\n",
    "    if [[ \"${foldB}\" == \"5\" ]]; then\n",
    "        echo \"${foldA},0\"\n",
    "        bedtools intersect -a \"/mnt/lab_data2/vir/tf_chr_atlas/scripts/tf-atlas-pipeline/anvil/modeling/peaks_valid_fold${foldA}.bed\" -b \"/mnt/lab_data2/vir/tf_chr_atlas/scripts/tf-atlas-pipeline/anvil/modeling/peaks_valid_fold0.bed\"\n",
    "    else\n",
    "        echo \"${foldA},${foldB}\"\n",
    "        bedtools intersect -a \"/mnt/lab_data2/vir/tf_chr_atlas/scripts/tf-atlas-pipeline/anvil/modeling/peaks_valid_fold${foldA}.bed\" -b \"/mnt/lab_data2/vir/tf_chr_atlas/scripts/tf-atlas-pipeline/anvil/modeling/peaks_valid_fold${foldB}.bed\"\n",
    "    fi\n",
    "done"
   ]
  },
  {
   "cell_type": "code",
   "execution_count": 75,
   "metadata": {},
   "outputs": [
    {
     "name": "stdout",
     "output_type": "stream",
     "text": [
      "0,1\n",
      "1,2\n",
      "2,3\n",
      "3,4\n",
      "4,0\n"
     ]
    }
   ],
   "source": [
    "%%bash\n",
    "for ((foldA = 0,foldB = 1 ; foldA <= 4,foldB <= 5 ; foldA++, foldB++))\n",
    "do\n",
    "    if [[ \"${foldB}\" == \"5\" ]]; then\n",
    "        echo \"${foldA},0\"\n",
    "        bedtools intersect -a \"/mnt/lab_data2/vir/tf_chr_atlas/scripts/tf-atlas-pipeline/anvil/modeling/background_peaks_valid_fold${foldA}.bed\" -b \"/mnt/lab_data2/vir/tf_chr_atlas/scripts/tf-atlas-pipeline/anvil/modeling/background_peaks_valid_fold0.bed\"\n",
    "    else\n",
    "        echo \"${foldA},${foldB}\"\n",
    "        bedtools intersect -a \"/mnt/lab_data2/vir/tf_chr_atlas/scripts/tf-atlas-pipeline/anvil/modeling/background_peaks_valid_fold${foldA}.bed\" -b \"/mnt/lab_data2/vir/tf_chr_atlas/scripts/tf-atlas-pipeline/anvil/modeling/background_peaks_valid_fold${foldB}.bed\"\n",
    "    fi\n",
    "done"
   ]
  },
  {
   "cell_type": "code",
   "execution_count": 76,
   "metadata": {},
   "outputs": [
    {
     "name": "stdout",
     "output_type": "stream",
     "text": [
      "0,1\n",
      "1,2\n",
      "2,3\n",
      "3,4\n",
      "4,0\n"
     ]
    }
   ],
   "source": [
    "%%bash\n",
    "for ((foldA = 0,foldB = 1 ; foldA <= 4,foldB <= 5 ; foldA++, foldB++))\n",
    "do\n",
    "    if [[ \"${foldB}\" == \"5\" ]]; then\n",
    "        echo \"${foldA},0\"\n",
    "        bedtools intersect -a \"/mnt/lab_data2/vir/tf_chr_atlas/scripts/tf-atlas-pipeline/anvil/modeling/background_peaks_test_fold${foldA}.bed\" -b \"/mnt/lab_data2/vir/tf_chr_atlas/scripts/tf-atlas-pipeline/anvil/modeling/background_peaks_test_fold0.bed\"\n",
    "    else\n",
    "        echo \"${foldA},${foldB}\"\n",
    "        bedtools intersect -a \"/mnt/lab_data2/vir/tf_chr_atlas/scripts/tf-atlas-pipeline/anvil/modeling/background_peaks_test_fold${foldA}.bed\" -b \"/mnt/lab_data2/vir/tf_chr_atlas/scripts/tf-atlas-pipeline/anvil/modeling/background_peaks_test_fold${foldB}.bed\"\n",
    "    fi\n",
    "done"
   ]
  },
  {
   "cell_type": "code",
   "execution_count": 77,
   "metadata": {},
   "outputs": [
    {
     "name": "stdout",
     "output_type": "stream",
     "text": [
      "0,1\n",
      "1,2\n",
      "2,3\n",
      "3,4\n",
      "4,0\n"
     ]
    }
   ],
   "source": [
    "%%bash\n",
    "for ((foldA = 0,foldB = 1 ; foldA <= 4,foldB <= 5 ; foldA++, foldB++))\n",
    "do\n",
    "    if [[ \"${foldB}\" == \"5\" ]]; then\n",
    "        echo \"${foldA},0\"\n",
    "        bedtools intersect -a \"/mnt/lab_data2/vir/tf_chr_atlas/scripts/tf-atlas-pipeline/anvil/modeling/peaks_test_fold${foldA}.bed\" -b \"/mnt/lab_data2/vir/tf_chr_atlas/scripts/tf-atlas-pipeline/anvil/modeling/peaks_test_fold0.bed\"\n",
    "    else\n",
    "        echo \"${foldA},${foldB}\"\n",
    "        bedtools intersect -a \"/mnt/lab_data2/vir/tf_chr_atlas/scripts/tf-atlas-pipeline/anvil/modeling/peaks_test_fold${foldA}.bed\" -b \"/mnt/lab_data2/vir/tf_chr_atlas/scripts/tf-atlas-pipeline/anvil/modeling/peaks_test_fold${foldB}.bed\"\n",
    "    fi\n",
    "done"
   ]
  },
  {
   "cell_type": "code",
   "execution_count": null,
   "metadata": {},
   "outputs": [],
   "source": []
  }
 ],
 "metadata": {
  "kernelspec": {
   "display_name": "basepairmodels_latest",
   "language": "python",
   "name": "basepairmodels_latest"
  },
  "language_info": {
   "codemirror_mode": {
    "name": "ipython",
    "version": 3
   },
   "file_extension": ".py",
   "mimetype": "text/x-python",
   "name": "python",
   "nbconvert_exporter": "python",
   "pygments_lexer": "ipython3",
   "version": "3.7.0"
  }
 },
 "nbformat": 4,
 "nbformat_minor": 4
}
